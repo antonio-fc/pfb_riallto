{
 "cells": [
  {
   "cell_type": "code",
   "execution_count": 1,
   "id": "5198447b-9190-4358-a918-f287159e7066",
   "metadata": {},
   "outputs": [],
   "source": [
    "import npu\n",
    "import numpy as np\n",
    "from npu.build.appbuilder import AppBuilder\n",
    "from npu.runtime import AppRunner\n",
    "import pylab as plt\n",
    "import scipy"
   ]
  },
  {
   "cell_type": "code",
   "execution_count": 2,
   "id": "4d244ab8-41fd-4fe6-aa81-21c691721487",
   "metadata": {},
   "outputs": [],
   "source": [
    "M     = 3          # Number of taps\n",
    "P     = 1024       # Number of 'branches', also fft length\n",
    "W     = 1024       # Number of windows of length M*P in input time stream\n",
    "n_int = 10          # Number of time integrations on output data\n",
    "n_points=M*P\n",
    "dt=np.float32"
   ]
  },
  {
   "cell_type": "code",
   "execution_count": 3,
   "id": "b7c90eab-caa1-4e13-98e1-1c5fc52aca2a",
   "metadata": {},
   "outputs": [],
   "source": [
    "def createKernel(kernel_name):\n",
    "    kernel_path = f\"./kernels/{kernel_name}.c\"\n",
    "    with open(kernel_path, 'r') as file:\n",
    "        data = file.read()\n",
    "    get_ipython().run_cell_magic('kernel', '', data)\n",
    "\n",
    "def generateKernels():\n",
    "    # Passtrough kernel\n",
    "    createKernel(\"passthrough\")\n",
    "    dt = np.float32\n",
    "    passthrough.ports[0].array = np.ndarray([1, n_points], dtype=dt) # uint16_t as placeholder of same size\n",
    "    passthrough.ports[1].array = np.ndarray([1, n_points], dtype=dt)\n",
    "\n",
    "    return [passthrough]"
   ]
  },
  {
   "cell_type": "code",
   "execution_count": 4,
   "id": "9bda2cee-4608-4b3b-ae16-4209c7a26478",
   "metadata": {},
   "outputs": [
    {
     "data": {
      "text/plain": [
       "<npu.build.kernel.Kernel at 0x733d8d5552b0>"
      ]
     },
     "execution_count": 4,
     "metadata": {},
     "output_type": "execute_result"
    }
   ],
   "source": [
    "kernels = generateKernels()\n",
    "passthrough"
   ]
  },
  {
   "cell_type": "code",
   "execution_count": 5,
   "id": "b83588f2-f954-45ed-bcef-1d1b8dc8a13f",
   "metadata": {},
   "outputs": [],
   "source": [
    "class SimpleApplication(AppBuilder):\n",
    "    \n",
    "    def __init__(self, kernel):\n",
    "        self.kernel = kernel\n",
    "        super().__init__()\n",
    "\n",
    "    def callgraph(self, x_in:np.ndarray, x_out:np.ndarray):\n",
    "        rows = x_in.shape[0]\n",
    "        bytes_per_row = x_in.shape[1]\n",
    "        for row in range(rows):\n",
    "            kernel_output = self.kernel(x_in[row], bytes_per_row)\n",
    "            x_out[row] = kernel_output"
   ]
  },
  {
   "cell_type": "code",
   "execution_count": 6,
   "id": "be200f1f-2b62-40ce-8978-3e5f6192db07",
   "metadata": {},
   "outputs": [],
   "source": [
    "app_builder = SimpleApplication(kernel=passthrough)"
   ]
  },
  {
   "cell_type": "code",
   "execution_count": 7,
   "id": "ee941333-102d-45a3-acd1-f07ea714be9a",
   "metadata": {},
   "outputs": [
    {
     "name": "stdout",
     "output_type": "stream",
     "text": [
      "Using cached passthrough kernel object file...\n",
      "Building the xclbin...\n",
      "ERROR! WSL failed \n",
      "\n",
      "cp: cannot stat '/tmp/pnx5heyabme/build_template/final.xclbin': No such file or directory\n",
      "\n"
     ]
    },
    {
     "ename": "CalledProcessError",
     "evalue": "Command '['cp', '/tmp/pnx5heyabme/build_template/final.xclbin', './SimpleApplication.xclbin']' returned non-zero exit status 1.",
     "output_type": "error",
     "traceback": [
      "\u001b[0;31m---------------------------------------------------------------------------\u001b[0m",
      "\u001b[0;31mCalledProcessError\u001b[0m                        Traceback (most recent call last)",
      "Cell \u001b[0;32mIn[7], line 4\u001b[0m\n\u001b[1;32m      1\u001b[0m intput_img \u001b[38;5;241m=\u001b[39m np\u001b[38;5;241m.\u001b[39mzeros(shape\u001b[38;5;241m=\u001b[39m(\u001b[38;5;241m1\u001b[39m, n_points), dtype\u001b[38;5;241m=\u001b[39mdt)\n\u001b[1;32m      2\u001b[0m output_img \u001b[38;5;241m=\u001b[39m np\u001b[38;5;241m.\u001b[39mzeros(shape\u001b[38;5;241m=\u001b[39m(\u001b[38;5;241m1\u001b[39m, n_points), dtype\u001b[38;5;241m=\u001b[39mdt)\n\u001b[0;32m----> 4\u001b[0m \u001b[43mapp_builder\u001b[49m\u001b[38;5;241;43m.\u001b[39;49m\u001b[43mbuild\u001b[49m\u001b[43m(\u001b[49m\u001b[43mintput_img\u001b[49m\u001b[43m,\u001b[49m\u001b[43m \u001b[49m\u001b[43moutput_img\u001b[49m\u001b[43m)\u001b[49m\n",
      "File \u001b[0;32m~/riallto_venv/lib/python3.12/site-packages/npu/build/appbuilder.py:133\u001b[0m, in \u001b[0;36mAppBuilder.build\u001b[0;34m(self, debug, mlir, *args)\u001b[0m\n\u001b[1;32m    131\u001b[0m \u001b[38;5;28mself\u001b[39m\u001b[38;5;241m.\u001b[39mto_handoff(\u001b[38;5;241m*\u001b[39margs, file\u001b[38;5;241m=\u001b[39m\u001b[38;5;124mf\u001b[39m\u001b[38;5;124m\"\u001b[39m\u001b[38;5;132;01m{\u001b[39;00m\u001b[38;5;28mself\u001b[39m\u001b[38;5;241m.\u001b[39mname\u001b[38;5;132;01m}\u001b[39;00m\u001b[38;5;124m.json\u001b[39m\u001b[38;5;124m\"\u001b[39m)\n\u001b[1;32m    132\u001b[0m \u001b[38;5;28;01mif\u001b[39;00m mlir \u001b[38;5;129;01mis\u001b[39;00m \u001b[38;5;28;01mNone\u001b[39;00m:\n\u001b[0;32m--> 133\u001b[0m     \u001b[38;5;28;43mself\u001b[39;49m\u001b[38;5;241;43m.\u001b[39;49m\u001b[43mab\u001b[49m\u001b[38;5;241;43m.\u001b[39;49m\u001b[43mbuild\u001b[49m\u001b[43m(\u001b[49m\u001b[38;5;28;43mself\u001b[39;49m\u001b[38;5;241;43m.\u001b[39;49m\u001b[43mname\u001b[49m\u001b[43m,\u001b[49m\u001b[43m \u001b[49m\u001b[38;5;124;43mf\u001b[39;49m\u001b[38;5;124;43m\"\u001b[39;49m\u001b[38;5;132;43;01m{\u001b[39;49;00m\u001b[38;5;28;43mself\u001b[39;49m\u001b[38;5;241;43m.\u001b[39;49m\u001b[43mname\u001b[49m\u001b[38;5;132;43;01m}\u001b[39;49;00m\u001b[38;5;124;43m.mlir\u001b[39;49m\u001b[38;5;124;43m\"\u001b[39;49m\u001b[43m,\u001b[49m\u001b[43m \u001b[49m\u001b[38;5;28;43mself\u001b[39;49m\u001b[38;5;241;43m.\u001b[39;49m\u001b[43mkernels\u001b[49m\u001b[43m,\u001b[49m\u001b[43m \u001b[49m\u001b[43mdebug\u001b[49m\u001b[43m)\u001b[49m\n\u001b[1;32m    134\u001b[0m \u001b[38;5;28;01melse\u001b[39;00m:\n\u001b[1;32m    135\u001b[0m     \u001b[38;5;28mself\u001b[39m\u001b[38;5;241m.\u001b[39mab\u001b[38;5;241m.\u001b[39mbuild(\u001b[38;5;28mself\u001b[39m\u001b[38;5;241m.\u001b[39mname, mlir, \u001b[38;5;28mself\u001b[39m\u001b[38;5;241m.\u001b[39mkernels, debug)\n",
      "File \u001b[0;32m~/riallto_venv/lib/python3.12/site-packages/npu/build/appxclbinbuilder.py:54\u001b[0m, in \u001b[0;36mAppXclbinBuilder.build\u001b[0;34m(self, appname, mlir_file, kernels, debug)\u001b[0m\n\u001b[1;32m     52\u001b[0m \u001b[38;5;28mself\u001b[39m\u001b[38;5;241m.\u001b[39m_wslcall(\u001b[38;5;124mf\u001b[39m\u001b[38;5;124m\"\u001b[39m\u001b[38;5;132;01m{\u001b[39;00mwsl_prefix()\u001b[38;5;132;01m}\u001b[39;00m\u001b[38;5;124mcp\u001b[39m\u001b[38;5;124m\"\u001b[39m, [\u001b[38;5;124mf\u001b[39m\u001b[38;5;124m\"\u001b[39m\u001b[38;5;132;01m{\u001b[39;00mwslpath(os\u001b[38;5;241m.\u001b[39mpath\u001b[38;5;241m.\u001b[39mabspath(mlir_file))\u001b[38;5;132;01m}\u001b[39;00m\u001b[38;5;124m\"\u001b[39m, \u001b[38;5;124mf\u001b[39m\u001b[38;5;124m\"\u001b[39m\u001b[38;5;132;01m{\u001b[39;00mwslpath(\u001b[38;5;28mself\u001b[39m\u001b[38;5;241m.\u001b[39mbuild_path)\u001b[38;5;132;01m}\u001b[39;00m\u001b[38;5;124m/aie.mlir\u001b[39m\u001b[38;5;124m\"\u001b[39m], debug)\n\u001b[1;32m     53\u001b[0m \u001b[38;5;28mself\u001b[39m\u001b[38;5;241m.\u001b[39m_wslcall(\u001b[38;5;124mf\u001b[39m\u001b[38;5;124m\"\u001b[39m\u001b[38;5;132;01m{\u001b[39;00mwsl_prefix()\u001b[38;5;132;01m}\u001b[39;00m\u001b[38;5;124mbash\u001b[39m\u001b[38;5;124m\"\u001b[39m, [\u001b[38;5;124mf\u001b[39m\u001b[38;5;124m\"\u001b[39m\u001b[38;5;132;01m{\u001b[39;00mwslpath(\u001b[38;5;28mself\u001b[39m\u001b[38;5;241m.\u001b[39mbuild_path)\u001b[38;5;132;01m}\u001b[39;00m\u001b[38;5;124m/app_build.sh\u001b[39m\u001b[38;5;124m\"\u001b[39m, \u001b[38;5;124mf\u001b[39m\u001b[38;5;124m\"\u001b[39m\u001b[38;5;132;01m{\u001b[39;00mappname\u001b[38;5;132;01m}\u001b[39;00m\u001b[38;5;124m\"\u001b[39m], debug)\n\u001b[0;32m---> 54\u001b[0m \u001b[38;5;28;43mself\u001b[39;49m\u001b[38;5;241;43m.\u001b[39;49m\u001b[43m_wslcall\u001b[49m\u001b[43m(\u001b[49m\u001b[38;5;124;43mf\u001b[39;49m\u001b[38;5;124;43m\"\u001b[39;49m\u001b[38;5;132;43;01m{\u001b[39;49;00m\u001b[43mwsl_prefix\u001b[49m\u001b[43m(\u001b[49m\u001b[43m)\u001b[49m\u001b[38;5;132;43;01m}\u001b[39;49;00m\u001b[38;5;124;43mcp\u001b[39;49m\u001b[38;5;124;43m\"\u001b[39;49m\u001b[43m,\u001b[49m\u001b[43m \u001b[49m\u001b[43m[\u001b[49m\u001b[38;5;124;43mf\u001b[39;49m\u001b[38;5;124;43m\"\u001b[39;49m\u001b[38;5;132;43;01m{\u001b[39;49;00m\u001b[43mwslpath\u001b[49m\u001b[43m(\u001b[49m\u001b[38;5;28;43mself\u001b[39;49m\u001b[38;5;241;43m.\u001b[39;49m\u001b[43mbuild_path\u001b[49m\u001b[43m)\u001b[49m\u001b[38;5;132;43;01m}\u001b[39;49;00m\u001b[38;5;124;43m/final.xclbin\u001b[39;49m\u001b[38;5;124;43m\"\u001b[39;49m\u001b[43m,\u001b[49m\u001b[43m \u001b[49m\u001b[38;5;124;43mf\u001b[39;49m\u001b[38;5;124;43m\"\u001b[39;49m\u001b[38;5;124;43m./\u001b[39;49m\u001b[38;5;132;43;01m{\u001b[39;49;00m\u001b[43mappname\u001b[49m\u001b[38;5;132;43;01m}\u001b[39;49;00m\u001b[38;5;124;43m.xclbin\u001b[39;49m\u001b[38;5;124;43m\"\u001b[39;49m\u001b[43m]\u001b[49m\u001b[43m,\u001b[49m\u001b[43m \u001b[49m\u001b[43mdebug\u001b[49m\u001b[43m)\u001b[49m\n\u001b[1;32m     55\u001b[0m \u001b[38;5;28mself\u001b[39m\u001b[38;5;241m.\u001b[39m_wslcall(\u001b[38;5;124mf\u001b[39m\u001b[38;5;124m\"\u001b[39m\u001b[38;5;132;01m{\u001b[39;00mwsl_prefix()\u001b[38;5;132;01m}\u001b[39;00m\u001b[38;5;124mcp\u001b[39m\u001b[38;5;124m\"\u001b[39m, [\u001b[38;5;124mf\u001b[39m\u001b[38;5;124m\"\u001b[39m\u001b[38;5;132;01m{\u001b[39;00mwslpath(\u001b[38;5;28mself\u001b[39m\u001b[38;5;241m.\u001b[39mbuild_path)\u001b[38;5;132;01m}\u001b[39;00m\u001b[38;5;124m/final.seq\u001b[39m\u001b[38;5;124m\"\u001b[39m, \u001b[38;5;124mf\u001b[39m\u001b[38;5;124m\"\u001b[39m\u001b[38;5;124m./\u001b[39m\u001b[38;5;132;01m{\u001b[39;00mappname\u001b[38;5;132;01m}\u001b[39;00m\u001b[38;5;124m.seq\u001b[39m\u001b[38;5;124m\"\u001b[39m], debug)\n\u001b[1;32m     56\u001b[0m \u001b[38;5;28mprint\u001b[39m(\u001b[38;5;124mf\u001b[39m\u001b[38;5;124m\"\u001b[39m\u001b[38;5;124mSuccessfully Building Application... \u001b[39m\u001b[38;5;132;01m{\u001b[39;00mappname\u001b[38;5;132;01m}\u001b[39;00m\u001b[38;5;124m.xclbin & \u001b[39m\u001b[38;5;132;01m{\u001b[39;00mappname\u001b[38;5;132;01m}\u001b[39;00m\u001b[38;5;124m.seq delivered\u001b[39m\u001b[38;5;124m\"\u001b[39m)\n",
      "File \u001b[0;32m~/riallto_venv/lib/python3.12/site-packages/npu/build/wslbuilder.py:43\u001b[0m, in \u001b[0;36mWSLBuilder._wslcall\u001b[0;34m(self, cmd, arglist, debug)\u001b[0m\n\u001b[1;32m     41\u001b[0m \u001b[38;5;28;01mexcept\u001b[39;00m subprocess\u001b[38;5;241m.\u001b[39mCalledProcessError \u001b[38;5;28;01mas\u001b[39;00m e:\n\u001b[1;32m     42\u001b[0m     \u001b[38;5;28mprint\u001b[39m(\u001b[38;5;124mf\u001b[39m\u001b[38;5;124m\"\u001b[39m\u001b[38;5;124mERROR! WSL failed \u001b[39m\u001b[38;5;130;01m\\n\u001b[39;00m\u001b[38;5;130;01m\\n\u001b[39;00m\u001b[38;5;132;01m{\u001b[39;00me\u001b[38;5;241m.\u001b[39moutput\u001b[38;5;241m.\u001b[39mdecode()\u001b[38;5;132;01m}\u001b[39;00m\u001b[38;5;124m\"\u001b[39m) \n\u001b[0;32m---> 43\u001b[0m     \u001b[38;5;28;01mraise\u001b[39;00m e\n",
      "File \u001b[0;32m~/riallto_venv/lib/python3.12/site-packages/npu/build/wslbuilder.py:38\u001b[0m, in \u001b[0;36mWSLBuilder._wslcall\u001b[0;34m(self, cmd, arglist, debug)\u001b[0m\n\u001b[1;32m     36\u001b[0m cmdlist \u001b[38;5;241m=\u001b[39m cmd\u001b[38;5;241m.\u001b[39msplit(\u001b[38;5;124m\"\u001b[39m\u001b[38;5;124m \u001b[39m\u001b[38;5;124m\"\u001b[39m) \u001b[38;5;241m+\u001b[39m arglist\n\u001b[1;32m     37\u001b[0m \u001b[38;5;28;01mtry\u001b[39;00m:\n\u001b[0;32m---> 38\u001b[0m     output \u001b[38;5;241m=\u001b[39m \u001b[43msubprocess\u001b[49m\u001b[38;5;241;43m.\u001b[39;49m\u001b[43mcheck_output\u001b[49m\u001b[43m(\u001b[49m\u001b[43mcmdlist\u001b[49m\u001b[43m,\u001b[49m\u001b[43m \u001b[49m\u001b[43mstderr\u001b[49m\u001b[38;5;241;43m=\u001b[39;49m\u001b[43msubprocess\u001b[49m\u001b[38;5;241;43m.\u001b[39;49m\u001b[43mSTDOUT\u001b[49m\u001b[43m)\u001b[49m\n\u001b[1;32m     39\u001b[0m     \u001b[38;5;28;01mif\u001b[39;00m debug:\n\u001b[1;32m     40\u001b[0m         \u001b[38;5;28mprint\u001b[39m(\u001b[38;5;124mf\u001b[39m\u001b[38;5;124m\"\u001b[39m\u001b[38;5;132;01m{\u001b[39;00moutput\u001b[38;5;241m.\u001b[39mdecode(\u001b[38;5;124m'\u001b[39m\u001b[38;5;124mUTF-8\u001b[39m\u001b[38;5;124m'\u001b[39m)\u001b[38;5;241m.\u001b[39mrstrip()\u001b[38;5;132;01m}\u001b[39;00m\u001b[38;5;124m\"\u001b[39m)\n",
      "File \u001b[0;32m/usr/lib/python3.12/subprocess.py:466\u001b[0m, in \u001b[0;36mcheck_output\u001b[0;34m(timeout, *popenargs, **kwargs)\u001b[0m\n\u001b[1;32m    463\u001b[0m         empty \u001b[38;5;241m=\u001b[39m \u001b[38;5;124mb\u001b[39m\u001b[38;5;124m'\u001b[39m\u001b[38;5;124m'\u001b[39m\n\u001b[1;32m    464\u001b[0m     kwargs[\u001b[38;5;124m'\u001b[39m\u001b[38;5;124minput\u001b[39m\u001b[38;5;124m'\u001b[39m] \u001b[38;5;241m=\u001b[39m empty\n\u001b[0;32m--> 466\u001b[0m \u001b[38;5;28;01mreturn\u001b[39;00m \u001b[43mrun\u001b[49m\u001b[43m(\u001b[49m\u001b[38;5;241;43m*\u001b[39;49m\u001b[43mpopenargs\u001b[49m\u001b[43m,\u001b[49m\u001b[43m \u001b[49m\u001b[43mstdout\u001b[49m\u001b[38;5;241;43m=\u001b[39;49m\u001b[43mPIPE\u001b[49m\u001b[43m,\u001b[49m\u001b[43m \u001b[49m\u001b[43mtimeout\u001b[49m\u001b[38;5;241;43m=\u001b[39;49m\u001b[43mtimeout\u001b[49m\u001b[43m,\u001b[49m\u001b[43m \u001b[49m\u001b[43mcheck\u001b[49m\u001b[38;5;241;43m=\u001b[39;49m\u001b[38;5;28;43;01mTrue\u001b[39;49;00m\u001b[43m,\u001b[49m\n\u001b[1;32m    467\u001b[0m \u001b[43m           \u001b[49m\u001b[38;5;241;43m*\u001b[39;49m\u001b[38;5;241;43m*\u001b[39;49m\u001b[43mkwargs\u001b[49m\u001b[43m)\u001b[49m\u001b[38;5;241m.\u001b[39mstdout\n",
      "File \u001b[0;32m/usr/lib/python3.12/subprocess.py:571\u001b[0m, in \u001b[0;36mrun\u001b[0;34m(input, capture_output, timeout, check, *popenargs, **kwargs)\u001b[0m\n\u001b[1;32m    569\u001b[0m     retcode \u001b[38;5;241m=\u001b[39m process\u001b[38;5;241m.\u001b[39mpoll()\n\u001b[1;32m    570\u001b[0m     \u001b[38;5;28;01mif\u001b[39;00m check \u001b[38;5;129;01mand\u001b[39;00m retcode:\n\u001b[0;32m--> 571\u001b[0m         \u001b[38;5;28;01mraise\u001b[39;00m CalledProcessError(retcode, process\u001b[38;5;241m.\u001b[39margs,\n\u001b[1;32m    572\u001b[0m                                  output\u001b[38;5;241m=\u001b[39mstdout, stderr\u001b[38;5;241m=\u001b[39mstderr)\n\u001b[1;32m    573\u001b[0m \u001b[38;5;28;01mreturn\u001b[39;00m CompletedProcess(process\u001b[38;5;241m.\u001b[39margs, retcode, stdout, stderr)\n",
      "\u001b[0;31mCalledProcessError\u001b[0m: Command '['cp', '/tmp/pnx5heyabme/build_template/final.xclbin', './SimpleApplication.xclbin']' returned non-zero exit status 1."
     ]
    }
   ],
   "source": [
    "intput_img = np.zeros(shape=(1, n_points), dtype=dt)\n",
    "output_img = np.zeros(shape=(1, n_points), dtype=dt)\n",
    "\n",
    "app_builder.build(intput_img, output_img)"
   ]
  },
  {
   "cell_type": "code",
   "execution_count": null,
   "id": "1e21dcad-acb1-4208-9b92-c02a3ab79c51",
   "metadata": {},
   "outputs": [],
   "source": [
    "app_builder.metadata"
   ]
  },
  {
   "cell_type": "code",
   "execution_count": null,
   "id": "877fe42a-7ad7-4591-99e4-2134d97efe28",
   "metadata": {},
   "outputs": [],
   "source": [
    "noise = np.random.normal(loc=0.5, scale=0.1, size=n_points).astype(dt)\n",
    "samples = np.arange(M*P)\n",
    "freq    = 1\n",
    "amp     = 1\n",
    "cw_signal = (amp * np.sin(samples * freq))\n",
    "data = noise + cw_signal\n",
    "plt.plot(data)\n",
    "plt.show()\n",
    "plt.clf()"
   ]
  },
  {
   "cell_type": "code",
   "execution_count": null,
   "id": "b29e47bf-0edd-4fef-8719-4b53c387042c",
   "metadata": {},
   "outputs": [],
   "source": [
    "print(type(data))\n",
    "print(data)"
   ]
  },
  {
   "cell_type": "code",
   "execution_count": null,
   "id": "2db629ff-9119-484f-9b7c-452531d5fe49",
   "metadata": {},
   "outputs": [],
   "source": [
    "app = AppRunner('SimpleApplication.xclbin')"
   ]
  },
  {
   "cell_type": "code",
   "execution_count": null,
   "id": "b142eaa7-2bb3-49d2-bb82-f5cc01bff79e",
   "metadata": {},
   "outputs": [],
   "source": [
    "# Allocate app input and output buffers to exchange data with NPU\n",
    "input_image = app.allocate(shape=(1, n_points), dtype=dt)\n",
    "output_image = app.allocate(shape=(1, n_points), dtype=dt)"
   ]
  },
  {
   "cell_type": "code",
   "execution_count": null,
   "id": "cd24dbd7-ae73-4a87-81f0-f3f802dc9ba7",
   "metadata": {},
   "outputs": [],
   "source": [
    "# Load RGBA 720p image into input_image buffer\n",
    "input_image[:] = data"
   ]
  },
  {
   "cell_type": "code",
   "execution_count": null,
   "id": "65c4e7bb-7d5a-4260-bbe5-70de14dfda47",
   "metadata": {},
   "outputs": [],
   "source": [
    "# Pass input_image buffer to NPU\n",
    "input_image.sync_to_npu()"
   ]
  },
  {
   "cell_type": "code",
   "execution_count": null,
   "id": "9e9ef193-325c-4e8f-a57b-7b5d49ba7b96",
   "metadata": {},
   "outputs": [],
   "source": [
    "# Run app on NPU\n",
    "app.call(input_image, output_image)"
   ]
  },
  {
   "cell_type": "code",
   "execution_count": null,
   "id": "8722e1a7-e6d1-46df-a3c7-a538a492b2b5",
   "metadata": {},
   "outputs": [],
   "source": [
    "# Get results from NPU via output_image buffer \n",
    "output_image.sync_from_npu()"
   ]
  },
  {
   "cell_type": "code",
   "execution_count": null,
   "id": "653d580f-b4da-4b5f-974e-caff3edc8580",
   "metadata": {},
   "outputs": [],
   "source": [
    "# Compare the arrays for equality\n",
    "print(f\"Are the arrays are equal?: {np.array_equal(data, output_image)}\")\n",
    "plt.plot(output_image)\n",
    "plt.show()\n",
    "plt.clf()"
   ]
  },
  {
   "cell_type": "code",
   "execution_count": null,
   "id": "f3af96bd-3ef6-45b5-8f52-83b20518cb3f",
   "metadata": {},
   "outputs": [],
   "source": [
    "print(type(output_image))\n",
    "print(output_image)"
   ]
  },
  {
   "cell_type": "code",
   "execution_count": null,
   "id": "9c4ceffb-fe65-4b10-9163-f7fd4adff301",
   "metadata": {},
   "outputs": [],
   "source": [
    "gg = np.zeros(shape=(1, n_points), dtype=dt)\n",
    "gg[:] = output_image\n",
    "gg = gg[0]\n",
    "print(type(gg))\n",
    "print(gg.shape)\n",
    "print(gg.dtype)\n",
    "print(gg)"
   ]
  },
  {
   "cell_type": "code",
   "execution_count": null,
   "id": "47a07273-0312-4cae-b9b9-e73c934f04f8",
   "metadata": {},
   "outputs": [],
   "source": [
    "plt.plot(gg)\n",
    "plt.show()\n",
    "plt.clf()"
   ]
  },
  {
   "cell_type": "code",
   "execution_count": null,
   "id": "112f56f4-8f6d-481d-8d5f-3798d69e7604",
   "metadata": {},
   "outputs": [],
   "source": [
    "s = 0\n",
    "for i in range(n_points):\n",
    "    if data[i] != gg[i]:\n",
    "        s += 1\n",
    "print(s)"
   ]
  },
  {
   "cell_type": "code",
   "execution_count": null,
   "id": "bd96ce0d-8bc9-4295-a9e2-82a5b7346dc8",
   "metadata": {},
   "outputs": [],
   "source": [
    "diff = np.subtract(data, gg)\n",
    "print(type(diff))\n",
    "print(diff.shape)\n",
    "print(diff.dtype)\n",
    "plt.plot(diff)\n",
    "plt.show()\n",
    "plt.clf()"
   ]
  },
  {
   "cell_type": "code",
   "execution_count": null,
   "id": "818204c8-5aed-421c-945c-aa0326f1fccb",
   "metadata": {},
   "outputs": [],
   "source": [
    "del app"
   ]
  }
 ],
 "metadata": {
  "kernelspec": {
   "display_name": "Python 3 (ipykernel)",
   "language": "python",
   "name": "python3"
  },
  "language_info": {
   "codemirror_mode": {
    "name": "ipython",
    "version": 3
   },
   "file_extension": ".py",
   "mimetype": "text/x-python",
   "name": "python",
   "nbconvert_exporter": "python",
   "pygments_lexer": "ipython3",
   "version": "3.12.3"
  }
 },
 "nbformat": 4,
 "nbformat_minor": 5
}

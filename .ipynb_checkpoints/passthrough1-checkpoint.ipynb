{
 "cells": [
  {
   "cell_type": "code",
   "execution_count": 1,
   "id": "5198447b-9190-4358-a918-f287159e7066",
   "metadata": {},
   "outputs": [],
   "source": [
    "import npu\n",
    "import numpy as np\n",
    "from npu.build.appbuilder import AppBuilder\n",
    "from npu.runtime import AppRunner\n",
    "import pylab as plt\n",
    "import scipy"
   ]
  },
  {
   "cell_type": "code",
   "execution_count": 2,
   "id": "4d244ab8-41fd-4fe6-aa81-21c691721487",
   "metadata": {},
   "outputs": [],
   "source": [
    "M     = 2          # Number of taps\n",
    "P     = 1024       # Number of 'branches', also fft length\n",
    "W     = 1024       # Number of windows of length M*P in input time stream\n",
    "n_int = 10          # Number of time integrations on output data\n",
    "n_points=64\n",
    "dt=np.float32"
   ]
  },
  {
   "cell_type": "code",
   "execution_count": 3,
   "id": "88777c0d-ab7c-42e9-b8c7-24f2c450e84e",
   "metadata": {},
   "outputs": [],
   "source": [
    "%%kernel\n",
    "\n",
    "void passthrough(float *in_buffer, float *out_buffer, uint32_t nbytes)\n",
    "{\n",
    "    for(int i=0; i<nbytes; i++) {\n",
    "        out_buffer[i] = in_buffer[i];\n",
    "    }\n",
    "}"
   ]
  },
  {
   "cell_type": "code",
   "execution_count": 4,
   "id": "9bda2cee-4608-4b3b-ae16-4209c7a26478",
   "metadata": {},
   "outputs": [
    {
     "data": {
      "text/plain": [
       "<npu.build.kernel.Kernel at 0x7b8b6c151a30>"
      ]
     },
     "execution_count": 4,
     "metadata": {},
     "output_type": "execute_result"
    }
   ],
   "source": [
    "passthrough"
   ]
  },
  {
   "cell_type": "code",
   "execution_count": 5,
   "id": "6bfa73ee-b1f9-42bd-a058-4d4c266cce99",
   "metadata": {},
   "outputs": [],
   "source": [
    "passthrough.ports[0].array = np.ndarray([1, M*P], dtype=dt) # uint16_t as placeholder of same size\n",
    "passthrough.ports[1].array = np.ndarray([1, M*P], dtype=dt)"
   ]
  },
  {
   "cell_type": "code",
   "execution_count": 6,
   "id": "b83588f2-f954-45ed-bcef-1d1b8dc8a13f",
   "metadata": {},
   "outputs": [],
   "source": [
    "class SimpleApplication(AppBuilder):\n",
    "    \n",
    "    def __init__(self, kernel):\n",
    "        self.kernel = kernel\n",
    "        super().__init__()\n",
    "\n",
    "    def callgraph(self, x_in:np.ndarray, x_out:np.ndarray):\n",
    "        rows = x_in.shape[0]\n",
    "        bytes_per_row = x_in.shape[1]\n",
    "        for row in range(rows):\n",
    "            kernel_output = self.kernel(x_in[row], bytes_per_row)\n",
    "            x_out[row] = kernel_output"
   ]
  },
  {
   "cell_type": "code",
   "execution_count": 7,
   "id": "be200f1f-2b62-40ce-8978-3e5f6192db07",
   "metadata": {},
   "outputs": [],
   "source": [
    "app_builder = SimpleApplication(kernel=passthrough)"
   ]
  },
  {
   "cell_type": "code",
   "execution_count": 8,
   "id": "ee941333-102d-45a3-acd1-f07ea714be9a",
   "metadata": {},
   "outputs": [
    {
     "name": "stdout",
     "output_type": "stream",
     "text": [
      "Building the passthrough kernel...\n",
      "Building the xclbin...\n",
      "Successfully Building Application... SimpleApplication.xclbin & SimpleApplication.seq delivered\n"
     ]
    }
   ],
   "source": [
    "input_data = np.zeros(shape=(1, M*P), dtype=dt)\n",
    "output_data = np.zeros(shape=(1, M*P), dtype=dt)\n",
    "\n",
    "app_builder.build(input_data, output_data)"
   ]
  },
  {
   "cell_type": "code",
   "execution_count": 9,
   "id": "1e21dcad-acb1-4208-9b92-c02a3ab79c51",
   "metadata": {},
   "outputs": [
    {
     "data": {
      "application/json": {
       "application": "SimpleApplication",
       "connections": {
        "itbuffer_0___ITout___passthrough_0___in_buffer": {
         "ctype": null,
         "dtype": "uint8 *",
         "name": "itbuffer_0___ITout___passthrough_0___in_buffer",
         "sinkkernel": "passthrough_0",
         "sinkport": "in_buffer",
         "srckernel": "itbuffer_0",
         "srcport": "ITout"
        },
        "passthrough_0___out_buffer___itbuffer_1___ITin": {
         "ctype": null,
         "dtype": "float *",
         "name": "passthrough_0___out_buffer___itbuffer_1___ITin",
         "sinkkernel": "itbuffer_1",
         "sinkport": "ITin",
         "srckernel": "passthrough_0",
         "srcport": "out_buffer"
        },
        "user___write___passthrough_0___nbytes": {
         "ctype": null,
         "dtype": "<npu.build.userspace.UserspaceRTP object at 0x7b8b6c150aa0>",
         "name": "user___write___passthrough_0___nbytes",
         "sinkkernel": "passthrough_0",
         "sinkport": "nbytes",
         "srckernel": "user",
         "srcport": "write"
        }
       },
       "kernels": {
        "itbuffer_0": {
         "dtype": "float32",
         "ktype": "buffer",
         "name": "itbuffer_0",
         "ports": {
          "ITin": {
           "c_dtype": null,
           "ctype": null,
           "direction": "in",
           "dtype": "float32",
           "name": "ITin",
           "shape": [
            1,
            2048
           ]
          },
          "ITout": {
           "c_dtype": null,
           "ctype": null,
           "direction": "out",
           "dtype": "float32",
           "name": "ITout",
           "shape": [
            1,
            2048
           ]
          }
         },
         "shape": [
          1,
          2048
         ],
         "tloc": null,
         "ttype": "IT",
         "type": "IT"
        },
        "itbuffer_1": {
         "dtype": "float32",
         "ktype": "buffer",
         "name": "itbuffer_1",
         "ports": {
          "ITin": {
           "c_dtype": null,
           "ctype": null,
           "direction": "in",
           "dtype": "float32",
           "name": "ITin",
           "shape": [
            2048
           ]
          },
          "ITout": {
           "c_dtype": null,
           "ctype": null,
           "direction": "out",
           "dtype": "float32",
           "name": "ITout",
           "shape": [
            1,
            2048
           ]
          }
         },
         "shape": [
          1,
          2048
         ],
         "tloc": null,
         "ttype": "IT",
         "type": "IT"
        },
        "passthrough_0": {
         "ktype": "passthrough",
         "name": "passthrough_0",
         "ports": {
          "in_buffer": {
           "c_dtype": null,
           "ctype": null,
           "direction": "in",
           "dtype": "float32",
           "name": "in_buffer",
           "shape": [
            2048
           ]
          },
          "nbytes": {
           "c_dtype": "uint32_t",
           "ctype": "rtp",
           "direction": "in",
           "name": "nbytes",
           "value": 2048
          },
          "out_buffer": {
           "c_dtype": null,
           "ctype": null,
           "direction": "out",
           "dtype": "float32",
           "name": "out_buffer",
           "shape": [
            1,
            2048
           ]
          }
         },
         "tloc": [
          0,
          2
         ],
         "ttype": "CT",
         "type": "CT"
        }
       },
       "sequence": [
        {
         "name": "itbuffer_0___ITout___passthrough_0___in_buffer",
         "nbytes": 8192,
         "offset": 0,
         "seqtype": "buffer",
         "snkdtype": "float *",
         "snkkernelname": "passthrough_0",
         "snknbytes": 8192,
         "snkoffset": 0,
         "snkportname": "in_buffer",
         "snkshape": [
          2048
         ],
         "snkslices": [],
         "srcdtype": "uint8 *",
         "srckernelname": "itbuffer_0",
         "srcnbytes": 8192,
         "srcoffset": 0,
         "srcportname": "ITout",
         "srcshape": [
          2048
         ],
         "srcslices": [
          0
         ]
        },
        {
         "name": "user___write___passthrough_0___nbytes",
         "seqtype": "rtp",
         "snkkernelname": "passthrough_0",
         "snkportname": "nbytes",
         "srckernelname": "user",
         "srcportname": "write",
         "value": 2048
        },
        {
         "name": "passthrough_0___out_buffer___itbuffer_1___ITin",
         "nbytes": 8192,
         "offset": 0,
         "seqtype": "buffer",
         "snkdtype": "uint8 *",
         "snkkernelname": "itbuffer_1",
         "snknbytes": 8192,
         "snkoffset": 0,
         "snkportname": "ITin",
         "snkshape": [
          2048
         ],
         "snkslices": [
          0
         ],
         "srcdtype": "float *",
         "srckernelname": "passthrough_0",
         "srcnbytes": 8192,
         "srcoffset": 0,
         "srcportname": "out_buffer",
         "srcshape": [
          1,
          2048
         ],
         "srcslices": []
        }
       ]
      },
      "text/plain": [
       "{'application': 'SimpleApplication',\n",
       " 'kernels': OrderedDict([('itbuffer_0',\n",
       "               {'name': 'itbuffer_0',\n",
       "                'tloc': None,\n",
       "                'ttype': 'IT',\n",
       "                'ktype': 'buffer',\n",
       "                'type': 'IT',\n",
       "                'ports': {'ITin': {'c_dtype': None,\n",
       "                  'direction': 'in',\n",
       "                  'name': 'ITin',\n",
       "                  'ctype': None,\n",
       "                  'shape': (1, 2048),\n",
       "                  'dtype': 'float32'},\n",
       "                 'ITout': {'c_dtype': None,\n",
       "                  'direction': 'out',\n",
       "                  'name': 'ITout',\n",
       "                  'ctype': None,\n",
       "                  'shape': (1, 2048),\n",
       "                  'dtype': 'float32'}},\n",
       "                'shape': (1, 2048),\n",
       "                'dtype': 'float32'}),\n",
       "              ('itbuffer_1',\n",
       "               {'name': 'itbuffer_1',\n",
       "                'tloc': None,\n",
       "                'ttype': 'IT',\n",
       "                'ktype': 'buffer',\n",
       "                'type': 'IT',\n",
       "                'ports': {'ITin': {'c_dtype': None,\n",
       "                  'direction': 'in',\n",
       "                  'name': 'ITin',\n",
       "                  'ctype': None,\n",
       "                  'shape': (2048,),\n",
       "                  'dtype': 'float32'},\n",
       "                 'ITout': {'c_dtype': None,\n",
       "                  'direction': 'out',\n",
       "                  'name': 'ITout',\n",
       "                  'ctype': None,\n",
       "                  'shape': (1, 2048),\n",
       "                  'dtype': 'float32'}},\n",
       "                'shape': (1, 2048),\n",
       "                'dtype': 'float32'}),\n",
       "              ('passthrough_0',\n",
       "               {'name': 'passthrough_0',\n",
       "                'tloc': (0, 2),\n",
       "                'ttype': 'CT',\n",
       "                'ktype': 'passthrough',\n",
       "                'type': 'CT',\n",
       "                'ports': {'in_buffer': {'c_dtype': None,\n",
       "                  'direction': 'in',\n",
       "                  'name': 'in_buffer',\n",
       "                  'ctype': None,\n",
       "                  'shape': (2048,),\n",
       "                  'dtype': 'float32'},\n",
       "                 'out_buffer': {'c_dtype': None,\n",
       "                  'direction': 'out',\n",
       "                  'name': 'out_buffer',\n",
       "                  'ctype': None,\n",
       "                  'shape': (1, 2048),\n",
       "                  'dtype': 'float32'},\n",
       "                 'nbytes': {'c_dtype': 'uint32_t',\n",
       "                  'direction': 'in',\n",
       "                  'name': 'nbytes',\n",
       "                  'ctype': 'rtp',\n",
       "                  'value': 2048}}})]),\n",
       " 'connections': OrderedDict([('itbuffer_0___ITout___passthrough_0___in_buffer',\n",
       "               {'name': 'itbuffer_0___ITout___passthrough_0___in_buffer',\n",
       "                'srckernel': 'itbuffer_0',\n",
       "                'srcport': 'ITout',\n",
       "                'sinkkernel': 'passthrough_0',\n",
       "                'sinkport': 'in_buffer',\n",
       "                'dtype': 'uint8 *',\n",
       "                'ctype': None}),\n",
       "              ('passthrough_0___out_buffer___itbuffer_1___ITin',\n",
       "               {'name': 'passthrough_0___out_buffer___itbuffer_1___ITin',\n",
       "                'srckernel': 'passthrough_0',\n",
       "                'srcport': 'out_buffer',\n",
       "                'sinkkernel': 'itbuffer_1',\n",
       "                'sinkport': 'ITin',\n",
       "                'dtype': 'float *',\n",
       "                'ctype': None}),\n",
       "              ('user___write___passthrough_0___nbytes',\n",
       "               {'name': 'user___write___passthrough_0___nbytes',\n",
       "                'srckernel': 'user',\n",
       "                'srcport': 'write',\n",
       "                'sinkkernel': 'passthrough_0',\n",
       "                'sinkport': 'nbytes',\n",
       "                'dtype': <npu.build.userspace.UserspaceRTP at 0x7b8b6c150aa0>,\n",
       "                'ctype': None})]),\n",
       " 'sequence': [{'name': 'itbuffer_0___ITout___passthrough_0___in_buffer',\n",
       "   'seqtype': 'buffer',\n",
       "   'offset': 0,\n",
       "   'nbytes': 8192,\n",
       "   'srckernelname': 'itbuffer_0',\n",
       "   'srcportname': 'ITout',\n",
       "   'srcdtype': 'uint8 *',\n",
       "   'srcslices': [0],\n",
       "   'srcoffset': 0,\n",
       "   'srcnbytes': 8192,\n",
       "   'srcshape': (2048,),\n",
       "   'snkkernelname': 'passthrough_0',\n",
       "   'snkportname': 'in_buffer',\n",
       "   'snkdtype': 'float *',\n",
       "   'snkslices': [],\n",
       "   'snkoffset': 0,\n",
       "   'snknbytes': 8192,\n",
       "   'snkshape': (2048,)},\n",
       "  {'name': 'user___write___passthrough_0___nbytes',\n",
       "   'seqtype': 'rtp',\n",
       "   'value': 2048,\n",
       "   'srckernelname': 'user',\n",
       "   'srcportname': 'write',\n",
       "   'snkkernelname': 'passthrough_0',\n",
       "   'snkportname': 'nbytes'},\n",
       "  {'name': 'passthrough_0___out_buffer___itbuffer_1___ITin',\n",
       "   'seqtype': 'buffer',\n",
       "   'offset': 0,\n",
       "   'nbytes': 8192,\n",
       "   'srckernelname': 'passthrough_0',\n",
       "   'srcportname': 'out_buffer',\n",
       "   'srcdtype': 'float *',\n",
       "   'srcslices': [],\n",
       "   'srcoffset': 0,\n",
       "   'srcnbytes': 8192,\n",
       "   'srcshape': (1, 2048),\n",
       "   'snkkernelname': 'itbuffer_1',\n",
       "   'snkportname': 'ITin',\n",
       "   'snkdtype': 'uint8 *',\n",
       "   'snkslices': [0],\n",
       "   'snkoffset': 0,\n",
       "   'snknbytes': 8192,\n",
       "   'snkshape': (2048,)}]}"
      ]
     },
     "execution_count": 9,
     "metadata": {
      "application/json": {
       "expanded": false,
       "root": "SimpleApplication"
      }
     },
     "output_type": "execute_result"
    }
   ],
   "source": [
    "app_builder.metadata"
   ]
  },
  {
   "cell_type": "code",
   "execution_count": 10,
   "id": "877fe42a-7ad7-4591-99e4-2134d97efe28",
   "metadata": {},
   "outputs": [
    {
     "data": {
      "image/png": "[encoded data removed]",
      "text/plain": [
       "<Figure size 640x480 with 1 Axes>"
      ]
     },
     "metadata": {},
     "output_type": "display_data"
    },
    {
     "data": {
      "text/plain": [
       "<Figure size 640x480 with 0 Axes>"
      ]
     },
     "metadata": {},
     "output_type": "display_data"
    }
   ],
   "source": [
    "from npu.utils import OpenCVImageReader, image_plot\n",
    "\n",
    "samples = np.arange(M*P)\n",
    "noise   = np.random.normal(loc=0.5, scale=0.1, size=M*P).astype(dt)\n",
    "freq    = 1\n",
    "amp     = 1\n",
    "cw_signal = (amp * np.sin(samples * freq))\n",
    "data = noise\n",
    "plt.plot(data)\n",
    "plt.show()\n",
    "plt.clf()"
   ]
  },
  {
   "cell_type": "code",
   "execution_count": 11,
   "id": "b29e47bf-0edd-4fef-8719-4b53c387042c",
   "metadata": {},
   "outputs": [
    {
     "name": "stdout",
     "output_type": "stream",
     "text": [
      "<class 'numpy.ndarray'>\n",
      "[0.49155045 0.5677734  0.3696074  ... 0.65643704 0.490663   0.5178687 ]\n"
     ]
    }
   ],
   "source": [
    "print(type(data))\n",
    "print(data)"
   ]
  },
  {
   "cell_type": "code",
   "execution_count": 12,
   "id": "2db629ff-9119-484f-9b7c-452531d5fe49",
   "metadata": {},
   "outputs": [],
   "source": [
    "app = AppRunner('SimpleApplication.xclbin')"
   ]
  },
  {
   "cell_type": "code",
   "execution_count": 13,
   "id": "b142eaa7-2bb3-49d2-bb82-f5cc01bff79e",
   "metadata": {},
   "outputs": [],
   "source": [
    "# Allocate app input and output buffers to exchange data with NPU\n",
    "inputs = app.allocate(shape=(1, M*P), dtype=dt)\n",
    "outputs = app.allocate(shape=(1, M*P), dtype=dt)"
   ]
  },
  {
   "cell_type": "code",
   "execution_count": 14,
   "id": "cd24dbd7-ae73-4a87-81f0-f3f802dc9ba7",
   "metadata": {},
   "outputs": [],
   "source": [
    "# Load RGBA 720p image into input_image buffer\n",
    "inputs[:] = data"
   ]
  },
  {
   "cell_type": "code",
   "execution_count": 15,
   "id": "65c4e7bb-7d5a-4260-bbe5-70de14dfda47",
   "metadata": {},
   "outputs": [],
   "source": [
    "# Pass input_image buffer to NPU\n",
    "outputs.sync_to_npu()"
   ]
  },
  {
   "cell_type": "code",
   "execution_count": 16,
   "id": "9e9ef193-325c-4e8f-a57b-7b5d49ba7b96",
   "metadata": {},
   "outputs": [],
   "source": [
    "# Run app on NPU\n",
    "app.call(inputs, outputs)"
   ]
  },
  {
   "cell_type": "code",
   "execution_count": 17,
   "id": "8722e1a7-e6d1-46df-a3c7-a538a492b2b5",
   "metadata": {},
   "outputs": [],
   "source": [
    "# Get results from NPU via output_image buffer \n",
    "outputs.sync_from_npu()"
   ]
  },
  {
   "cell_type": "code",
   "execution_count": 18,
   "id": "653d580f-b4da-4b5f-974e-caff3edc8580",
   "metadata": {},
   "outputs": [
    {
     "name": "stdout",
     "output_type": "stream",
     "text": [
      "Are the arrays are equal?: False\n"
     ]
    },
    {
     "data": {
      "image/png": "[encoded data removed]",
      "text/plain": [
       "<Figure size 640x480 with 1 Axes>"
      ]
     },
     "metadata": {},
     "output_type": "display_data"
    },
    {
     "data": {
      "text/plain": [
       "<Figure size 640x480 with 0 Axes>"
      ]
     },
     "metadata": {},
     "output_type": "display_data"
    }
   ],
   "source": [
    "# Compare the arrays for equality\n",
    "print(f\"Are the arrays are equal?: {np.array_equal(inputs, outputs)}\")\n",
    "plt.plot(outputs)\n",
    "plt.show()\n",
    "plt.clf()"
   ]
  },
  {
   "cell_type": "code",
   "execution_count": 19,
   "id": "f3af96bd-3ef6-45b5-8f52-83b20518cb3f",
   "metadata": {},
   "outputs": [
    {
     "name": "stdout",
     "output_type": "stream",
     "text": [
      "<class 'npu.runtime.apprunner.PynqBuffer'>\n",
      "(1, 2048)\n",
      "float32\n",
      "[[0.         0.         0.         ... 0.65643704 0.490663   0.5178687 ]]\n"
     ]
    }
   ],
   "source": [
    "print(type(outputs))\n",
    "print(outputs.shape)\n",
    "print(outputs.dtype)\n",
    "print(outputs)"
   ]
  },
  {
   "cell_type": "code",
   "execution_count": 20,
   "id": "9c4ceffb-fe65-4b10-9163-f7fd4adff301",
   "metadata": {},
   "outputs": [
    {
     "name": "stdout",
     "output_type": "stream",
     "text": [
      "<class 'numpy.ndarray'>\n",
      "(2048,)\n",
      "float32\n",
      "[0.         0.         0.         ... 0.65643704 0.490663   0.5178687 ]\n"
     ]
    }
   ],
   "source": [
    "gg = np.zeros(shape=(1, M*P), dtype=dt)\n",
    "gg[:] = outputs\n",
    "gg = gg[0]\n",
    "print(type(gg))\n",
    "print(gg.shape)\n",
    "print(gg.dtype)\n",
    "print(gg)"
   ]
  },
  {
   "cell_type": "code",
   "execution_count": 21,
   "id": "47a07273-0312-4cae-b9b9-e73c934f04f8",
   "metadata": {},
   "outputs": [
    {
     "data": {
      "image/png": "[encoded data removed]",
      "text/plain": [
       "<Figure size 640x480 with 1 Axes>"
      ]
     },
     "metadata": {},
     "output_type": "display_data"
    }
   ],
   "source": [
    "plt.plot(gg)\n",
    "plt.show()"
   ]
  },
  {
   "cell_type": "code",
   "execution_count": null,
   "id": "112f56f4-8f6d-481d-8d5f-3798d69e7604",
   "metadata": {},
   "outputs": [],
   "source": [
    "del app"
   ]
  }
 ],
 "metadata": {
  "kernelspec": {
   "display_name": "Python 3 (ipykernel)",
   "language": "python",
   "name": "python3"
  },
  "language_info": {
   "codemirror_mode": {
    "name": "ipython",
    "version": 3
   },
   "file_extension": ".py",
   "mimetype": "text/x-python",
   "name": "python",
   "nbconvert_exporter": "python",
   "pygments_lexer": "ipython3",
   "version": "3.12.3"
  }
 },
 "nbformat": 4,
 "nbformat_minor": 5
}

{
 "cells": [
  {
   "cell_type": "code",
   "execution_count": 12,
   "id": "d9214ec8-20e0-4860-ab49-345250d9227d",
   "metadata": {
    "editable": true,
    "slideshow": {
     "slide_type": ""
    },
    "tags": []
   },
   "outputs": [
    {
     "name": "stderr",
     "output_type": "stream",
     "text": [
      "2024-10-08 14:12:49.335850: I tensorflow/core/util/port.cc:153] oneDNN custom operations are on. You may see slightly different numerical results due to floating-point round-off errors from different computation orders. To turn them off, set the environment variable `TF_ENABLE_ONEDNN_OPTS=0`.\n",
      "2024-10-08 14:12:49.336878: I external/local_xla/xla/tsl/cuda/cudart_stub.cc:32] Could not find cuda drivers on your machine, GPU will not be used.\n",
      "2024-10-08 14:12:49.339872: I external/local_xla/xla/tsl/cuda/cudart_stub.cc:32] Could not find cuda drivers on your machine, GPU will not be used.\n",
      "2024-10-08 14:12:49.348359: E external/local_xla/xla/stream_executor/cuda/cuda_fft.cc:485] Unable to register cuFFT factory: Attempting to register factory for plugin cuFFT when one has already been registered\n",
      "2024-10-08 14:12:49.361424: E external/local_xla/xla/stream_executor/cuda/cuda_dnn.cc:8454] Unable to register cuDNN factory: Attempting to register factory for plugin cuDNN when one has already been registered\n",
      "2024-10-08 14:12:49.365454: E external/local_xla/xla/stream_executor/cuda/cuda_blas.cc:1452] Unable to register cuBLAS factory: Attempting to register factory for plugin cuBLAS when one has already been registered\n",
      "2024-10-08 14:12:49.376035: I tensorflow/core/platform/cpu_feature_guard.cc:210] This TensorFlow binary is optimized to use available CPU instructions in performance-critical operations.\n",
      "To enable the following instructions: AVX2 AVX512F AVX512_VNNI AVX512_BF16 FMA, in other operations, rebuild TensorFlow with the appropriate compiler flags.\n",
      "2024-10-08 14:12:50.049191: W tensorflow/compiler/tf2tensorrt/utils/py_utils.cc:38] TF-TRT Warning: Could not find TensorRT\n"
     ]
    }
   ],
   "source": [
    "import npu\n",
    "import numpy as np\n",
    "from npu.build.appbuilder import AppBuilder\n",
    "from npu.build.kernel import Kernel\n",
    "from npu.utils import OpenCVImageReader, image_plot\n",
    "from npu.runtime import AppRunner\n",
    "from PIL import Image\n",
    "from IPython import get_ipython\n",
    "import tensorflow as tf"
   ]
  },
  {
   "cell_type": "code",
   "execution_count": 13,
   "id": "1964d951-c63c-464d-85c2-d54e63c4cfbf",
   "metadata": {
    "editable": true,
    "slideshow": {
     "slide_type": ""
    },
    "tags": []
   },
   "outputs": [],
   "source": [
    "kernel_name = \"passthrough\"\n",
    "kernel_path = f\"./kernels/{kernel_name}.c\"\n",
    "with open(kernel_path, 'r') as file:\n",
    "    data = file.read()\n",
    "get_ipython().run_cell_magic('kernel', '', data) "
   ]
  },
  {
   "cell_type": "code",
   "execution_count": 14,
   "id": "2999f730-9c10-4722-afcf-7b5bca576af0",
   "metadata": {
    "editable": true,
    "slideshow": {
     "slide_type": ""
    },
    "tags": []
   },
   "outputs": [
    {
     "data": {
      "application/json": {
       "ktype": "passthrough",
       "name": "passthrough_1",
       "ports": {
        "in_buffer": {
         "c_dtype": null,
         "ctype": null,
         "direction": null,
         "dtype": null,
         "name": "in_buffer",
         "shape": null
        },
        "nbytes": {
         "c_dtype": "uint32_t",
         "ctype": "rtp",
         "direction": "in",
         "name": "nbytes",
         "value": "uint32_t"
        },
        "out_buffer": {
         "c_dtype": null,
         "ctype": null,
         "direction": null,
         "dtype": null,
         "name": "out_buffer",
         "shape": null
        }
       },
       "tloc": null,
       "ttype": "CT",
       "type": "CT"
      },
      "text/plain": [
       "{'name': 'passthrough_1',\n",
       " 'tloc': None,\n",
       " 'ttype': 'CT',\n",
       " 'ktype': 'passthrough',\n",
       " 'type': 'CT',\n",
       " 'ports': {'in_buffer': {'c_dtype': None,\n",
       "   'direction': None,\n",
       "   'name': 'in_buffer',\n",
       "   'ctype': None,\n",
       "   'shape': None,\n",
       "   'dtype': None},\n",
       "  'out_buffer': {'c_dtype': None,\n",
       "   'direction': None,\n",
       "   'name': 'out_buffer',\n",
       "   'ctype': None,\n",
       "   'shape': None,\n",
       "   'dtype': None},\n",
       "  'nbytes': {'c_dtype': 'uint32_t',\n",
       "   'direction': 'in',\n",
       "   'name': 'nbytes',\n",
       "   'ctype': 'rtp',\n",
       "   'value': 'uint32_t'}}}"
      ]
     },
     "execution_count": 14,
     "metadata": {
      "application/json": {
       "expanded": false,
       "root": "passthrough"
      }
     },
     "output_type": "execute_result"
    }
   ],
   "source": [
    "passthrough.metadata"
   ]
  },
  {
   "cell_type": "code",
   "execution_count": 20,
   "id": "fb07a815-1cc6-45d2-8d86-eac8b7eb28b7",
   "metadata": {
    "editable": true,
    "slideshow": {
     "slide_type": ""
    },
    "tags": []
   },
   "outputs": [],
   "source": [
    "passthrough.ports[0].array = np.ndarray([1280, 4], dtype=np.uint8)\n",
    "passthrough.ports[1].array = np.ndarray([1280, 4], dtype=np.uint8)"
   ]
  },
  {
   "cell_type": "code",
   "execution_count": 23,
   "id": "bad2edd1-5b57-406f-b019-93af63ce3202",
   "metadata": {},
   "outputs": [
    {
     "data": {
      "application/json": {
       "ktype": "passthrough",
       "name": "passthrough_1",
       "ports": {
        "in_buffer": {
         "c_dtype": null,
         "ctype": null,
         "direction": null,
         "dtype": "bfloat16",
         "name": "in_buffer",
         "shape": "TensorShape([1280, 4])"
        },
        "nbytes": {
         "c_dtype": "uint32_t",
         "ctype": "rtp",
         "direction": "in",
         "name": "nbytes",
         "value": "uint32_t"
        },
        "out_buffer": {
         "c_dtype": null,
         "ctype": null,
         "direction": null,
         "dtype": "bfloat16",
         "name": "out_buffer",
         "shape": "TensorShape([1280, 4])"
        }
       },
       "tloc": null,
       "ttype": "CT",
       "type": "CT"
      },
      "text/plain": [
       "{'name': 'passthrough_1',\n",
       " 'tloc': None,\n",
       " 'ttype': 'CT',\n",
       " 'ktype': 'passthrough',\n",
       " 'type': 'CT',\n",
       " 'ports': {'in_buffer': {'c_dtype': None,\n",
       "   'direction': None,\n",
       "   'name': 'in_buffer',\n",
       "   'ctype': None,\n",
       "   'shape': TensorShape([1280, 4]),\n",
       "   'dtype': 'bfloat16'},\n",
       "  'out_buffer': {'c_dtype': None,\n",
       "   'direction': None,\n",
       "   'name': 'out_buffer',\n",
       "   'ctype': None,\n",
       "   'shape': TensorShape([1280, 4]),\n",
       "   'dtype': 'bfloat16'},\n",
       "  'nbytes': {'c_dtype': 'uint32_t',\n",
       "   'direction': 'in',\n",
       "   'name': 'nbytes',\n",
       "   'ctype': 'rtp',\n",
       "   'value': 'uint32_t'}}}"
      ]
     },
     "execution_count": 23,
     "metadata": {
      "application/json": {
       "expanded": false,
       "root": "passthrough"
      }
     },
     "output_type": "execute_result"
    }
   ],
   "source": [
    "passthrough.metadata"
   ]
  },
  {
   "cell_type": "code",
   "execution_count": 24,
   "id": "c4a87175-9950-4c92-81ce-e1537539f335",
   "metadata": {
    "editable": true,
    "slideshow": {
     "slide_type": ""
    },
    "tags": []
   },
   "outputs": [],
   "source": [
    "class SimpleApplication(AppBuilder):\n",
    "\n",
    "    def __init__(self, kernel:Kernel):\n",
    "        self.kernel = kernel\n",
    "        super().__init__()\n",
    "\n",
    "    def callgraph(self, x_in: np.ndarray, x_out: np.ndarray) -> None:\n",
    "        rows = x_in.shape[0]\n",
    "        bytes_per_row = x_in.shape[1] * x_in.shape[2]\n",
    "        for row in range(rows):\n",
    "            kernel_output = self.kernel(x_in[row], bytes_per_row)\n",
    "            x_out[row] = kernel_output\n",
    "\n",
    "app_builder = SimpleApplication(kernel=passthrough)"
   ]
  },
  {
   "cell_type": "code",
   "execution_count": 25,
   "id": "8a2cffe8-24dc-4ffa-8fc7-8457c34b97da",
   "metadata": {
    "editable": true,
    "slideshow": {
     "slide_type": ""
    },
    "tags": []
   },
   "outputs": [
    {
     "ename": "AttributeError",
     "evalue": "EagerTensor object has no attribute 'reshape'. \n        If you are looking for numpy-related methods, please run the following:\n        tf.experimental.numpy.experimental_enable_numpy_behavior()\n      ",
     "output_type": "error",
     "traceback": [
      "\u001b[0;31m---------------------------------------------------------------------------\u001b[0m",
      "\u001b[0;31mAttributeError\u001b[0m                            Traceback (most recent call last)",
      "Cell \u001b[0;32mIn[25], line 5\u001b[0m\n\u001b[1;32m      2\u001b[0m input_image \u001b[38;5;241m=\u001b[39m np\u001b[38;5;241m.\u001b[39mzeros(shape\u001b[38;5;241m=\u001b[39m(\u001b[38;5;241m720\u001b[39m,\u001b[38;5;241m1280\u001b[39m,\u001b[38;5;241m4\u001b[39m), dtype\u001b[38;5;241m=\u001b[39mnp\u001b[38;5;241m.\u001b[39muint8)\n\u001b[1;32m      3\u001b[0m output_image \u001b[38;5;241m=\u001b[39m np\u001b[38;5;241m.\u001b[39mzeros(shape\u001b[38;5;241m=\u001b[39m(\u001b[38;5;241m720\u001b[39m,\u001b[38;5;241m1280\u001b[39m,\u001b[38;5;241m4\u001b[39m), dtype\u001b[38;5;241m=\u001b[39mnp\u001b[38;5;241m.\u001b[39muint8)\n\u001b[0;32m----> 5\u001b[0m \u001b[43mapp_builder\u001b[49m\u001b[38;5;241;43m.\u001b[39;49m\u001b[43mbuild\u001b[49m\u001b[43m(\u001b[49m\u001b[43minput_image\u001b[49m\u001b[43m,\u001b[49m\u001b[43m \u001b[49m\u001b[43moutput_image\u001b[49m\u001b[43m)\u001b[49m\n",
      "File \u001b[0;32m~/riallto_venv/lib/python3.12/site-packages/npu/build/appbuilder.py:130\u001b[0m, in \u001b[0;36mAppBuilder.build\u001b[0;34m(self, debug, mlir, *args)\u001b[0m\n\u001b[1;32m    128\u001b[0m \u001b[38;5;250m\u001b[39m\u001b[38;5;124;03m\"\"\" The application is built using the callgraph call with supplied arguments.\"\"\"\u001b[39;00m\n\u001b[1;32m    129\u001b[0m \u001b[38;5;28mself\u001b[39m\u001b[38;5;241m.\u001b[39mprevious_build_args \u001b[38;5;241m=\u001b[39m args\n\u001b[0;32m--> 130\u001b[0m \u001b[38;5;28;43mself\u001b[39;49m\u001b[38;5;241;43m.\u001b[39;49m\u001b[43mto_mlir\u001b[49m\u001b[43m(\u001b[49m\u001b[38;5;241;43m*\u001b[39;49m\u001b[43margs\u001b[49m\u001b[43m,\u001b[49m\u001b[43m \u001b[49m\u001b[43mfile\u001b[49m\u001b[38;5;241;43m=\u001b[39;49m\u001b[38;5;124;43mf\u001b[39;49m\u001b[38;5;124;43m\"\u001b[39;49m\u001b[38;5;132;43;01m{\u001b[39;49;00m\u001b[38;5;28;43mself\u001b[39;49m\u001b[38;5;241;43m.\u001b[39;49m\u001b[43mname\u001b[49m\u001b[38;5;132;43;01m}\u001b[39;49;00m\u001b[38;5;124;43m.mlir\u001b[39;49m\u001b[38;5;124;43m\"\u001b[39;49m\u001b[43m)\u001b[49m\n\u001b[1;32m    131\u001b[0m \u001b[38;5;28mself\u001b[39m\u001b[38;5;241m.\u001b[39mto_handoff(\u001b[38;5;241m*\u001b[39margs, file\u001b[38;5;241m=\u001b[39m\u001b[38;5;124mf\u001b[39m\u001b[38;5;124m\"\u001b[39m\u001b[38;5;132;01m{\u001b[39;00m\u001b[38;5;28mself\u001b[39m\u001b[38;5;241m.\u001b[39mname\u001b[38;5;132;01m}\u001b[39;00m\u001b[38;5;124m.json\u001b[39m\u001b[38;5;124m\"\u001b[39m)\n\u001b[1;32m    132\u001b[0m \u001b[38;5;28;01mif\u001b[39;00m mlir \u001b[38;5;129;01mis\u001b[39;00m \u001b[38;5;28;01mNone\u001b[39;00m:\n",
      "File \u001b[0;32m~/riallto_venv/lib/python3.12/site-packages/npu/build/appbuilder.py:101\u001b[0m, in \u001b[0;36mAppBuilder.to_mlir\u001b[0;34m(self, file, *args)\u001b[0m\n\u001b[1;32m     99\u001b[0m \u001b[38;5;250m\u001b[39m\u001b[38;5;124;03m\"\"\" Generates the application mlir file from the metadata collected.\"\"\"\u001b[39;00m\n\u001b[1;32m    100\u001b[0m \u001b[38;5;28mself\u001b[39m\u001b[38;5;241m.\u001b[39mprevious_build_args \u001b[38;5;241m=\u001b[39m args\n\u001b[0;32m--> 101\u001b[0m \u001b[38;5;28;01mreturn\u001b[39;00m MLIRBuilder(\u001b[38;5;28;43mself\u001b[39;49m\u001b[38;5;241;43m.\u001b[39;49m\u001b[43mto_metadata\u001b[49m\u001b[43m(\u001b[49m\u001b[38;5;241;43m*\u001b[39;49m\u001b[43margs\u001b[49m\u001b[43m)\u001b[49m)\u001b[38;5;241m.\u001b[39mto_mlir(file)\n",
      "File \u001b[0;32m~/riallto_venv/lib/python3.12/site-packages/npu/build/appbuilder.py:72\u001b[0m, in \u001b[0;36mAppBuilder.to_metadata\u001b[0;34m(self, *args)\u001b[0m\n\u001b[1;32m     70\u001b[0m \u001b[38;5;250m\u001b[39m\u001b[38;5;124;03m\"\"\" The application is converted into the AppMetadata after tracing the callgraph() call.\"\"\"\u001b[39;00m\n\u001b[1;32m     71\u001b[0m \u001b[38;5;28mself\u001b[39m\u001b[38;5;241m.\u001b[39mprevious_build_args \u001b[38;5;241m=\u001b[39m args\n\u001b[0;32m---> 72\u001b[0m \u001b[38;5;28mself\u001b[39m\u001b[38;5;241m.\u001b[39mkernels, \u001b[38;5;28mself\u001b[39m\u001b[38;5;241m.\u001b[39mconnections \u001b[38;5;241m=\u001b[39m \u001b[38;5;28;43mself\u001b[39;49m\u001b[38;5;241;43m.\u001b[39;49m\u001b[43mfxtracer\u001b[49m\u001b[38;5;241;43m.\u001b[39;49m\u001b[43mto_trace\u001b[49m\u001b[43m(\u001b[49m\u001b[38;5;241;43m*\u001b[39;49m\u001b[43margs\u001b[49m\u001b[43m)\u001b[49m\n\u001b[1;32m     74\u001b[0m \u001b[38;5;28;01mreturn\u001b[39;00m AppMetada(\u001b[38;5;28mself\u001b[39m\u001b[38;5;241m.\u001b[39mname,\n\u001b[1;32m     75\u001b[0m                  \u001b[38;5;28mself\u001b[39m\u001b[38;5;241m.\u001b[39munique_named(\u001b[38;5;28mself\u001b[39m\u001b[38;5;241m.\u001b[39mkernels),\n\u001b[1;32m     76\u001b[0m                  \u001b[38;5;28mself\u001b[39m\u001b[38;5;241m.\u001b[39munique_named(\u001b[38;5;28mself\u001b[39m\u001b[38;5;241m.\u001b[39mconnections),\n\u001b[1;32m     77\u001b[0m                  \u001b[38;5;28mself\u001b[39m\u001b[38;5;241m.\u001b[39mto_sequence())\n",
      "File \u001b[0;32m~/riallto_venv/lib/python3.12/site-packages/npu/build/apptracer.py:38\u001b[0m, in \u001b[0;36mAppTracer.to_trace\u001b[0;34m(self, *args)\u001b[0m\n\u001b[1;32m     35\u001b[0m TraceLogger\u001b[38;5;241m.\u001b[39mis_traceenabled \u001b[38;5;241m=\u001b[39m \u001b[38;5;28;01mTrue\u001b[39;00m\n\u001b[1;32m     37\u001b[0m args \u001b[38;5;241m=\u001b[39m [ITBuffer\u001b[38;5;241m.\u001b[39mndarray_to_itb_port(a, setitem_itkernel\u001b[38;5;241m=\u001b[39mITWrite) \u001b[38;5;28;01mfor\u001b[39;00m a \u001b[38;5;129;01min\u001b[39;00m args]\n\u001b[0;32m---> 38\u001b[0m trace_retval \u001b[38;5;241m=\u001b[39m \u001b[38;5;28;43mself\u001b[39;49m\u001b[38;5;241;43m.\u001b[39;49m\u001b[43mapplication\u001b[49m\u001b[38;5;241;43m.\u001b[39;49m\u001b[43mcallgraph\u001b[49m\u001b[43m(\u001b[49m\u001b[38;5;241;43m*\u001b[39;49m\u001b[43margs\u001b[49m\u001b[43m)\u001b[49m\n\u001b[1;32m     40\u001b[0m tkernels, tconnections \u001b[38;5;241m=\u001b[39m \u001b[38;5;28mself\u001b[39m\u001b[38;5;241m.\u001b[39m_postprocess_trace(trace_retval)   \n\u001b[1;32m     41\u001b[0m TraceLogger\u001b[38;5;241m.\u001b[39mis_traceenabled \u001b[38;5;241m=\u001b[39m \u001b[38;5;28;01mFalse\u001b[39;00m          \n",
      "Cell \u001b[0;32mIn[24], line 12\u001b[0m, in \u001b[0;36mSimpleApplication.callgraph\u001b[0;34m(self, x_in, x_out)\u001b[0m\n\u001b[1;32m     10\u001b[0m \u001b[38;5;28;01mfor\u001b[39;00m row \u001b[38;5;129;01min\u001b[39;00m \u001b[38;5;28mrange\u001b[39m(rows):\n\u001b[1;32m     11\u001b[0m     kernel_output \u001b[38;5;241m=\u001b[39m \u001b[38;5;28mself\u001b[39m\u001b[38;5;241m.\u001b[39mkernel(x_in[row], bytes_per_row)\n\u001b[0;32m---> 12\u001b[0m     \u001b[43mx_out\u001b[49m\u001b[43m[\u001b[49m\u001b[43mrow\u001b[49m\u001b[43m]\u001b[49m \u001b[38;5;241m=\u001b[39m kernel_output\n",
      "File \u001b[0;32m~/riallto_venv/lib/python3.12/site-packages/npu/build/port.py:126\u001b[0m, in \u001b[0;36mBufferPort.__setitem__\u001b[0;34m(self, key, value)\u001b[0m\n\u001b[1;32m    125\u001b[0m \u001b[38;5;28;01mdef\u001b[39;00m \u001b[38;5;21m__setitem__\u001b[39m(\u001b[38;5;28mself\u001b[39m, key, value):\n\u001b[0;32m--> 126\u001b[0m     \u001b[38;5;28;43mself\u001b[39;49m\u001b[38;5;241;43m.\u001b[39;49m\u001b[43mparent\u001b[49m\u001b[43m[\u001b[49m\u001b[43mkey\u001b[49m\u001b[43m]\u001b[49m \u001b[38;5;241m=\u001b[39m value\n",
      "File \u001b[0;32m~/riallto_venv/lib/python3.12/site-packages/npu/build/buffers.py:113\u001b[0m, in \u001b[0;36mITBuffer.__setitem__\u001b[0;34m(self, key, value)\u001b[0m\n\u001b[1;32m    110\u001b[0m \u001b[38;5;28;01mif\u001b[39;00m \u001b[38;5;28mself\u001b[39m\u001b[38;5;241m.\u001b[39msetitem_itkernel \u001b[38;5;129;01mis\u001b[39;00m \u001b[38;5;28;01mNone\u001b[39;00m:\n\u001b[1;32m    111\u001b[0m     \u001b[38;5;28;01mraise\u001b[39;00m \u001b[38;5;167;01mAttributeError\u001b[39;00m(\u001b[38;5;124mf\u001b[39m\u001b[38;5;124m'\u001b[39m\u001b[38;5;124mThis ITBuffer had setitem called, but this object does not implement a setitem kernel for tracing.\u001b[39m\u001b[38;5;124m'\u001b[39m)\n\u001b[0;32m--> 113\u001b[0m _ \u001b[38;5;241m=\u001b[39m \u001b[38;5;28;43mself\u001b[39;49m\u001b[38;5;241;43m.\u001b[39;49m\u001b[43msetitem_itkernel\u001b[49m\u001b[43m(\u001b[49m\u001b[43mvalue\u001b[49m\u001b[43m,\u001b[49m\u001b[43m \u001b[49m\u001b[43mbufref\u001b[49m\u001b[38;5;241;43m=\u001b[39;49m\u001b[38;5;28;43mself\u001b[39;49m\u001b[38;5;241;43m.\u001b[39;49m\u001b[43moutputbufferports\u001b[49m\u001b[43m[\u001b[49m\u001b[38;5;241;43m0\u001b[39;49m\u001b[43m]\u001b[49m\u001b[43m[\u001b[49m\u001b[43mkey\u001b[49m\u001b[43m]\u001b[49m\u001b[43m)\u001b[49m\n",
      "File \u001b[0;32m~/riallto_venv/lib/python3.12/site-packages/npu/build/itkernel.py:53\u001b[0m, in \u001b[0;36mITWrite.__new__\u001b[0;34m(self, inputbuffer, bufref)\u001b[0m\n\u001b[1;32m     51\u001b[0m \u001b[38;5;28;01mdef\u001b[39;00m \u001b[38;5;21m__new__\u001b[39m(\u001b[38;5;28mself\u001b[39m, inputbuffer\u001b[38;5;241m=\u001b[39m\u001b[38;5;28;01mNone\u001b[39;00m, bufref\u001b[38;5;241m=\u001b[39m\u001b[38;5;28;01mNone\u001b[39;00m) \u001b[38;5;241m-\u001b[39m\u001b[38;5;241m>\u001b[39m \u001b[38;5;28;01mNone\u001b[39;00m:\n\u001b[1;32m     52\u001b[0m     \u001b[38;5;28;01mif\u001b[39;00m inputbuffer \u001b[38;5;129;01mis\u001b[39;00m \u001b[38;5;129;01mnot\u001b[39;00m \u001b[38;5;28;01mNone\u001b[39;00m:\n\u001b[0;32m---> 53\u001b[0m         \u001b[38;5;28;01mreturn\u001b[39;00m \u001b[43mITWriteCall\u001b[49m\u001b[43m(\u001b[49m\u001b[43m)\u001b[49m\u001b[43m(\u001b[49m\u001b[43minputbuffer\u001b[49m\u001b[43m,\u001b[49m\u001b[43m \u001b[49m\u001b[43mbufref\u001b[49m\u001b[43m)\u001b[49m\n\u001b[1;32m     54\u001b[0m     \u001b[38;5;28;01melse\u001b[39;00m:\n\u001b[1;32m     55\u001b[0m         \u001b[38;5;28;01mreturn\u001b[39;00m ITWriteCall()\n",
      "File \u001b[0;32m~/riallto_venv/lib/python3.12/site-packages/npu/build/tracekernels.py:17\u001b[0m, in \u001b[0;36mkerneltracer.<locals>.graphtrace\u001b[0;34m(*args, **kwargs)\u001b[0m\n\u001b[1;32m     14\u001b[0m \u001b[38;5;28;01mif\u001b[39;00m isfunctraceable(func):\n\u001b[1;32m     15\u001b[0m     kwargs[\u001b[38;5;124m'\u001b[39m\u001b[38;5;124mbehavioral_n_tracing\u001b[39m\u001b[38;5;124m'\u001b[39m] \u001b[38;5;241m=\u001b[39m \u001b[38;5;129;01mnot\u001b[39;00m TraceLogger\u001b[38;5;241m.\u001b[39mis_traceenabled\n\u001b[0;32m---> 17\u001b[0m result \u001b[38;5;241m=\u001b[39m \u001b[43mfunc\u001b[49m\u001b[43m(\u001b[49m\u001b[38;5;241;43m*\u001b[39;49m\u001b[43margs\u001b[49m\u001b[43m,\u001b[49m\u001b[43m \u001b[49m\u001b[38;5;241;43m*\u001b[39;49m\u001b[38;5;241;43m*\u001b[39;49m\u001b[43mkwargs\u001b[49m\u001b[43m)\u001b[49m\n\u001b[1;32m     19\u001b[0m \u001b[38;5;66;03m# Update Traced Objects (funcname, func_args, func_kwargs)\u001b[39;00m\n\u001b[1;32m     20\u001b[0m newkernelcall \u001b[38;5;241m=\u001b[39m (deepcopy(args[\u001b[38;5;241m0\u001b[39m]), args[\u001b[38;5;241m1\u001b[39m:], kwargs, result)\n",
      "File \u001b[0;32m~/riallto_venv/lib/python3.12/site-packages/npu/build/itkernel.py:87\u001b[0m, in \u001b[0;36mITWriteCall.__call__\u001b[0;34m(self, inputbuffer, bufref, behavioral_n_tracing)\u001b[0m\n\u001b[1;32m     85\u001b[0m     \u001b[38;5;28mself\u001b[39m\u001b[38;5;241m.\u001b[39mitbuf \u001b[38;5;241m=\u001b[39m bufref\u001b[38;5;241m.\u001b[39mparent\n\u001b[1;32m     86\u001b[0m     \u001b[38;5;28mself\u001b[39m\u001b[38;5;241m.\u001b[39mitbuf\u001b[38;5;241m.\u001b[39minputbufferports[\u001b[38;5;241m0\u001b[39m]\u001b[38;5;241m.\u001b[39mslices \u001b[38;5;241m=\u001b[39m bufref\u001b[38;5;241m.\u001b[39mslices\n\u001b[0;32m---> 87\u001b[0m     bufref\u001b[38;5;241m.\u001b[39marray[:] \u001b[38;5;241m=\u001b[39m \u001b[43mBuffer\u001b[49m\u001b[38;5;241;43m.\u001b[39;49m\u001b[43mto_ndarray\u001b[49m\u001b[43m(\u001b[49m\u001b[43minputbuffer\u001b[49m\u001b[43m)\u001b[49m\u001b[38;5;241;43m.\u001b[39;49m\u001b[43mreshape\u001b[49m(bufref\u001b[38;5;241m.\u001b[39marray\u001b[38;5;241m.\u001b[39mshape)  \n\u001b[1;32m     89\u001b[0m \u001b[38;5;28;01mreturn\u001b[39;00m \u001b[38;5;28mself\u001b[39m\u001b[38;5;241m.\u001b[39mitbuf\u001b[38;5;241m.\u001b[39moutputbufferports[\u001b[38;5;241m0\u001b[39m]\n",
      "File \u001b[0;32m~/riallto_venv/lib/python3.12/site-packages/tensorflow/python/framework/tensor.py:255\u001b[0m, in \u001b[0;36mTensor.__getattr__\u001b[0;34m(self, name)\u001b[0m\n\u001b[1;32m    251\u001b[0m \u001b[38;5;28;01mdef\u001b[39;00m \u001b[38;5;21m__getattr__\u001b[39m(\u001b[38;5;28mself\u001b[39m, name):\n\u001b[1;32m    252\u001b[0m   \u001b[38;5;28;01mif\u001b[39;00m name \u001b[38;5;129;01min\u001b[39;00m {\u001b[38;5;124m\"\u001b[39m\u001b[38;5;124mT\u001b[39m\u001b[38;5;124m\"\u001b[39m, \u001b[38;5;124m\"\u001b[39m\u001b[38;5;124mastype\u001b[39m\u001b[38;5;124m\"\u001b[39m, \u001b[38;5;124m\"\u001b[39m\u001b[38;5;124mravel\u001b[39m\u001b[38;5;124m\"\u001b[39m, \u001b[38;5;124m\"\u001b[39m\u001b[38;5;124mtranspose\u001b[39m\u001b[38;5;124m\"\u001b[39m, \u001b[38;5;124m\"\u001b[39m\u001b[38;5;124mreshape\u001b[39m\u001b[38;5;124m\"\u001b[39m, \u001b[38;5;124m\"\u001b[39m\u001b[38;5;124mclip\u001b[39m\u001b[38;5;124m\"\u001b[39m, \u001b[38;5;124m\"\u001b[39m\u001b[38;5;124msize\u001b[39m\u001b[38;5;124m\"\u001b[39m,\n\u001b[1;32m    253\u001b[0m               \u001b[38;5;124m\"\u001b[39m\u001b[38;5;124mtolist\u001b[39m\u001b[38;5;124m\"\u001b[39m, \u001b[38;5;124m\"\u001b[39m\u001b[38;5;124mdata\u001b[39m\u001b[38;5;124m\"\u001b[39m}:\n\u001b[1;32m    254\u001b[0m     \u001b[38;5;66;03m# TODO(wangpeng): Export the enable_numpy_behavior knob\u001b[39;00m\n\u001b[0;32m--> 255\u001b[0m     \u001b[38;5;28;01mraise\u001b[39;00m \u001b[38;5;167;01mAttributeError\u001b[39;00m(\n\u001b[1;32m    256\u001b[0m         \u001b[38;5;124mf\u001b[39m\u001b[38;5;124m\"\u001b[39m\u001b[38;5;132;01m{\u001b[39;00m\u001b[38;5;28mtype\u001b[39m(\u001b[38;5;28mself\u001b[39m)\u001b[38;5;241m.\u001b[39m\u001b[38;5;18m__name__\u001b[39m\u001b[38;5;132;01m}\u001b[39;00m\u001b[38;5;124m object has no attribute \u001b[39m\u001b[38;5;124m'\u001b[39m\u001b[38;5;132;01m{\u001b[39;00mname\u001b[38;5;132;01m}\u001b[39;00m\u001b[38;5;124m'\u001b[39m\u001b[38;5;124m. \u001b[39m\u001b[38;5;124m\"\u001b[39m \u001b[38;5;241m+\u001b[39m \u001b[38;5;124m\"\"\"\u001b[39m\n\u001b[1;32m    257\u001b[0m \u001b[38;5;124m      If you are looking for numpy-related methods, please run the following:\u001b[39m\n\u001b[1;32m    258\u001b[0m \u001b[38;5;124m      tf.experimental.numpy.experimental_enable_numpy_behavior()\u001b[39m\n\u001b[1;32m    259\u001b[0m \u001b[38;5;124m    \u001b[39m\u001b[38;5;124m\"\"\"\u001b[39m)\n\u001b[1;32m    260\u001b[0m   \u001b[38;5;28mself\u001b[39m\u001b[38;5;241m.\u001b[39m\u001b[38;5;21m__getattribute__\u001b[39m(name)\n",
      "\u001b[0;31mAttributeError\u001b[0m: EagerTensor object has no attribute 'reshape'. \n        If you are looking for numpy-related methods, please run the following:\n        tf.experimental.numpy.experimental_enable_numpy_behavior()\n      "
     ]
    }
   ],
   "source": [
    "import numpy as np\n",
    "input_image = np.zeros(shape=(720,1280,4), dtype=np.uint8)\n",
    "output_image = np.zeros(shape=(720,1280,4), dtype=np.uint8)\n",
    "\n",
    "app_builder.build(input_image, output_image)"
   ]
  },
  {
   "cell_type": "code",
   "execution_count": 7,
   "id": "c20d342d-7176-4374-9e37-32140eeaa1bc",
   "metadata": {
    "editable": true,
    "slideshow": {
     "slide_type": ""
    },
    "tags": []
   },
   "outputs": [],
   "source": [
    "app = AppRunner('SimpleApplication.xclbin')"
   ]
  },
  {
   "cell_type": "code",
   "execution_count": 8,
   "id": "be7e1ae3-8686-406b-9f4a-69a45a172b74",
   "metadata": {
    "editable": true,
    "slideshow": {
     "slide_type": ""
    },
    "tags": []
   },
   "outputs": [],
   "source": [
    "img = OpenCVImageReader('images/jpg/ryzenai_future_starts_now.jpg').img"
   ]
  },
  {
   "cell_type": "code",
   "execution_count": 9,
   "id": "d31a3df3-b5bb-43e0-9af6-9b23b8214e43",
   "metadata": {
    "editable": true,
    "slideshow": {
     "slide_type": ""
    },
    "tags": []
   },
   "outputs": [],
   "source": [
    "input_image = app.allocate(shape=(720,1280,4), dtype=np.uint8)\n",
    "output_image = app.allocate(shape=(720,1280,4), dtype=np.uint8)\n",
    "input_image[:] = img\n",
    "input_image.sync_to_npu()\n",
    "app.call(input_image, output_image)\n",
    "output_image.sync_from_npu()"
   ]
  },
  {
   "cell_type": "code",
   "execution_count": 10,
   "id": "426c835e-722c-49b6-ab8a-6e13a931677c",
   "metadata": {
    "editable": true,
    "slideshow": {
     "slide_type": ""
    },
    "tags": []
   },
   "outputs": [
    {
     "name": "stdout",
     "output_type": "stream",
     "text": [
      "DONE!\n"
     ]
    }
   ],
   "source": [
    "im = Image.fromarray(output_image).convert('RGB')\n",
    "im.save(\"./images/jpg/output_pass.jpg\")\n",
    "print(\"DONE!\")"
   ]
  },
  {
   "cell_type": "code",
   "execution_count": 1,
   "id": "5e7abd5a-03e9-4cee-bf37-f536f45d5271",
   "metadata": {},
   "outputs": [
    {
     "ename": "NameError",
     "evalue": "name 'app' is not defined",
     "output_type": "error",
     "traceback": [
      "\u001b[0;31m---------------------------------------------------------------------------\u001b[0m",
      "\u001b[0;31mNameError\u001b[0m                                 Traceback (most recent call last)",
      "Cell \u001b[0;32mIn[1], line 1\u001b[0m\n\u001b[0;32m----> 1\u001b[0m \u001b[38;5;28;01mdel\u001b[39;00m \u001b[43mapp\u001b[49m\n",
      "\u001b[0;31mNameError\u001b[0m: name 'app' is not defined"
     ]
    }
   ],
   "source": [
    "del app"
   ]
  },
  {
   "cell_type": "code",
   "execution_count": null,
   "id": "dfd068eb-df75-4a4d-bf19-02c9f7bc320e",
   "metadata": {
    "editable": true,
    "slideshow": {
     "slide_type": ""
    },
    "tags": []
   },
   "outputs": [],
   "source": []
  }
 ],
 "metadata": {
  "kernelspec": {
   "display_name": "Python 3 (ipykernel)",
   "language": "python",
   "name": "python3"
  },
  "language_info": {
   "codemirror_mode": {
    "name": "ipython",
    "version": 3
   },
   "file_extension": ".py",
   "mimetype": "text/x-python",
   "name": "python",
   "nbconvert_exporter": "python",
   "pygments_lexer": "ipython3",
   "version": "3.12.3"
  }
 },
 "nbformat": 4,
 "nbformat_minor": 5
}

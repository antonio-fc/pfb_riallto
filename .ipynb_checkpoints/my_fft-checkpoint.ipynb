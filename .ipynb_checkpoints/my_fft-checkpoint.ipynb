{
 "cells": [
  {
   "cell_type": "code",
   "execution_count": 1,
   "id": "5198447b-9190-4358-a918-f287159e7066",
   "metadata": {},
   "outputs": [],
   "source": [
    "import npu\n",
    "import numpy as np\n",
    "from npu.build.appbuilder import AppBuilder\n",
    "from npu.runtime import AppRunner\n",
    "from npu.build.kernel import Kernel\n",
    "import pylab as plt\n",
    "import scipy"
   ]
  },
  {
   "cell_type": "code",
   "execution_count": 2,
   "id": "4d244ab8-41fd-4fe6-aa81-21c691721487",
   "metadata": {},
   "outputs": [],
   "source": [
    "M     = 3          # Number of taps\n",
    "P     = 16       # Number of 'branches', also fft length\n",
    "W     = 1024       # Number of windows of length M*P in input time stream\n",
    "n_int = 10          # Number of time integrations on output data\n",
    "n_points=M*P\n",
    "dt=np.float32"
   ]
  },
  {
   "cell_type": "code",
   "execution_count": 3,
   "id": "c44558d0-4838-4289-bb9f-4d3237017a03",
   "metadata": {},
   "outputs": [],
   "source": [
    "def createKernel(kernel_name):\n",
    "    kernel_path = f\"./kernels/{kernel_name}.c\"\n",
    "    with open(kernel_path, 'r') as file:\n",
    "        data = file.read()\n",
    "    get_ipython().run_cell_magic('kernel', '', data)\n",
    "\n",
    "def generateKernels(W, M, P, dt):\n",
    "    # Frontend kernel\n",
    "    createKernel(\"fft\")\n",
    "    fft_kernel.ports[0].array = np.ndarray([1, P], dtype=dt)\n",
    "    fft_kernel.ports[1].array = np.ndarray([1, P], dtype=dt)\n",
    "\n",
    "    return [fft_kernel]\n"
   ]
  },
  {
   "cell_type": "code",
   "execution_count": 4,
   "id": "88f91441-bdee-404b-9596-d1c6ad4e65fb",
   "metadata": {},
   "outputs": [],
   "source": [
    "kernels = generateKernels(W, M, P, dt)"
   ]
  },
  {
   "cell_type": "code",
   "execution_count": 5,
   "id": "28e631d2-bb65-4a79-a8b0-ccd2abfcd2eb",
   "metadata": {},
   "outputs": [],
   "source": [
    "class SimpleApplication(AppBuilder):\n",
    "    \n",
    "    def __init__(self, kernels):\n",
    "        self.frontend = kernels[0]\n",
    "        super().__init__()\n",
    "\n",
    "    def callgraph(self, x_in:np.ndarray, x_out:np.ndarray):\n",
    "        rows = x_in.shape[0]\n",
    "        size = x_in.shape[1]\n",
    "        for row in range(rows):\n",
    "            kernel_output = self.frontend(x_in[row], size)\n",
    "            x_out[row] = kernel_output"
   ]
  },
  {
   "cell_type": "code",
   "execution_count": 6,
   "id": "eb0aa40b-34fa-457e-9504-21d2eed9fa0b",
   "metadata": {},
   "outputs": [
    {
     "ename": "TypeError",
     "evalue": "SimpleApplication.callgraph() missing 1 required positional argument: 'x_out'",
     "output_type": "error",
     "traceback": [
      "\u001b[0;31m---------------------------------------------------------------------------\u001b[0m",
      "\u001b[0;31mTypeError\u001b[0m                                 Traceback (most recent call last)",
      "Cell \u001b[0;32mIn[6], line 8\u001b[0m\n\u001b[1;32m      5\u001b[0m input_form \u001b[38;5;241m=\u001b[39m np\u001b[38;5;241m.\u001b[39mzeros(shape\u001b[38;5;241m=\u001b[39m(\u001b[38;5;241m1\u001b[39m, P), dtype\u001b[38;5;241m=\u001b[39mdt)\n\u001b[1;32m      6\u001b[0m output_form \u001b[38;5;241m=\u001b[39m np\u001b[38;5;241m.\u001b[39mzeros(shape\u001b[38;5;241m=\u001b[39m(\u001b[38;5;241m1\u001b[39m, P), dtype\u001b[38;5;241m=\u001b[39mdt)\n\u001b[0;32m----> 8\u001b[0m \u001b[43mapp_builder\u001b[49m\u001b[38;5;241;43m.\u001b[39;49m\u001b[43mbuild\u001b[49m\u001b[43m(\u001b[49m\u001b[43minput_form\u001b[49m\u001b[43m,\u001b[49m\u001b[43m \u001b[49m\u001b[43moutput_form\u001b[49m\u001b[43m)\u001b[49m\n\u001b[1;32m     10\u001b[0m app \u001b[38;5;241m=\u001b[39m AppRunner(\u001b[38;5;124m'\u001b[39m\u001b[38;5;124mSimpleApplication.xclbin\u001b[39m\u001b[38;5;124m'\u001b[39m)\n",
      "File \u001b[0;32m~/riallto_venv/lib/python3.12/site-packages/npu/build/appbuilder.py:130\u001b[0m, in \u001b[0;36mAppBuilder.build\u001b[0;34m(self, debug, mlir, *args)\u001b[0m\n\u001b[1;32m    128\u001b[0m \u001b[38;5;250m\u001b[39m\u001b[38;5;124;03m\"\"\" The application is built using the callgraph call with supplied arguments.\"\"\"\u001b[39;00m\n\u001b[1;32m    129\u001b[0m \u001b[38;5;28mself\u001b[39m\u001b[38;5;241m.\u001b[39mprevious_build_args \u001b[38;5;241m=\u001b[39m args\n\u001b[0;32m--> 130\u001b[0m \u001b[38;5;28;43mself\u001b[39;49m\u001b[38;5;241;43m.\u001b[39;49m\u001b[43mto_mlir\u001b[49m\u001b[43m(\u001b[49m\u001b[38;5;241;43m*\u001b[39;49m\u001b[43margs\u001b[49m\u001b[43m,\u001b[49m\u001b[43m \u001b[49m\u001b[43mfile\u001b[49m\u001b[38;5;241;43m=\u001b[39;49m\u001b[38;5;124;43mf\u001b[39;49m\u001b[38;5;124;43m\"\u001b[39;49m\u001b[38;5;132;43;01m{\u001b[39;49;00m\u001b[38;5;28;43mself\u001b[39;49m\u001b[38;5;241;43m.\u001b[39;49m\u001b[43mname\u001b[49m\u001b[38;5;132;43;01m}\u001b[39;49;00m\u001b[38;5;124;43m.mlir\u001b[39;49m\u001b[38;5;124;43m\"\u001b[39;49m\u001b[43m)\u001b[49m\n\u001b[1;32m    131\u001b[0m \u001b[38;5;28mself\u001b[39m\u001b[38;5;241m.\u001b[39mto_handoff(\u001b[38;5;241m*\u001b[39margs, file\u001b[38;5;241m=\u001b[39m\u001b[38;5;124mf\u001b[39m\u001b[38;5;124m\"\u001b[39m\u001b[38;5;132;01m{\u001b[39;00m\u001b[38;5;28mself\u001b[39m\u001b[38;5;241m.\u001b[39mname\u001b[38;5;132;01m}\u001b[39;00m\u001b[38;5;124m.json\u001b[39m\u001b[38;5;124m\"\u001b[39m)\n\u001b[1;32m    132\u001b[0m \u001b[38;5;28;01mif\u001b[39;00m mlir \u001b[38;5;129;01mis\u001b[39;00m \u001b[38;5;28;01mNone\u001b[39;00m:\n",
      "File \u001b[0;32m~/riallto_venv/lib/python3.12/site-packages/npu/build/appbuilder.py:101\u001b[0m, in \u001b[0;36mAppBuilder.to_mlir\u001b[0;34m(self, file, *args)\u001b[0m\n\u001b[1;32m     99\u001b[0m \u001b[38;5;250m\u001b[39m\u001b[38;5;124;03m\"\"\" Generates the application mlir file from the metadata collected.\"\"\"\u001b[39;00m\n\u001b[1;32m    100\u001b[0m \u001b[38;5;28mself\u001b[39m\u001b[38;5;241m.\u001b[39mprevious_build_args \u001b[38;5;241m=\u001b[39m args\n\u001b[0;32m--> 101\u001b[0m \u001b[38;5;28;01mreturn\u001b[39;00m MLIRBuilder(\u001b[38;5;28;43mself\u001b[39;49m\u001b[38;5;241;43m.\u001b[39;49m\u001b[43mto_metadata\u001b[49m\u001b[43m(\u001b[49m\u001b[38;5;241;43m*\u001b[39;49m\u001b[43margs\u001b[49m\u001b[43m)\u001b[49m)\u001b[38;5;241m.\u001b[39mto_mlir(file)\n",
      "File \u001b[0;32m~/riallto_venv/lib/python3.12/site-packages/npu/build/appbuilder.py:72\u001b[0m, in \u001b[0;36mAppBuilder.to_metadata\u001b[0;34m(self, *args)\u001b[0m\n\u001b[1;32m     70\u001b[0m \u001b[38;5;250m\u001b[39m\u001b[38;5;124;03m\"\"\" The application is converted into the AppMetadata after tracing the callgraph() call.\"\"\"\u001b[39;00m\n\u001b[1;32m     71\u001b[0m \u001b[38;5;28mself\u001b[39m\u001b[38;5;241m.\u001b[39mprevious_build_args \u001b[38;5;241m=\u001b[39m args\n\u001b[0;32m---> 72\u001b[0m \u001b[38;5;28mself\u001b[39m\u001b[38;5;241m.\u001b[39mkernels, \u001b[38;5;28mself\u001b[39m\u001b[38;5;241m.\u001b[39mconnections \u001b[38;5;241m=\u001b[39m \u001b[38;5;28;43mself\u001b[39;49m\u001b[38;5;241;43m.\u001b[39;49m\u001b[43mfxtracer\u001b[49m\u001b[38;5;241;43m.\u001b[39;49m\u001b[43mto_trace\u001b[49m\u001b[43m(\u001b[49m\u001b[38;5;241;43m*\u001b[39;49m\u001b[43margs\u001b[49m\u001b[43m)\u001b[49m\n\u001b[1;32m     74\u001b[0m \u001b[38;5;28;01mreturn\u001b[39;00m AppMetada(\u001b[38;5;28mself\u001b[39m\u001b[38;5;241m.\u001b[39mname,\n\u001b[1;32m     75\u001b[0m                  \u001b[38;5;28mself\u001b[39m\u001b[38;5;241m.\u001b[39munique_named(\u001b[38;5;28mself\u001b[39m\u001b[38;5;241m.\u001b[39mkernels),\n\u001b[1;32m     76\u001b[0m                  \u001b[38;5;28mself\u001b[39m\u001b[38;5;241m.\u001b[39munique_named(\u001b[38;5;28mself\u001b[39m\u001b[38;5;241m.\u001b[39mconnections),\n\u001b[1;32m     77\u001b[0m                  \u001b[38;5;28mself\u001b[39m\u001b[38;5;241m.\u001b[39mto_sequence())\n",
      "File \u001b[0;32m~/riallto_venv/lib/python3.12/site-packages/npu/build/apptracer.py:38\u001b[0m, in \u001b[0;36mAppTracer.to_trace\u001b[0;34m(self, *args)\u001b[0m\n\u001b[1;32m     35\u001b[0m TraceLogger\u001b[38;5;241m.\u001b[39mis_traceenabled \u001b[38;5;241m=\u001b[39m \u001b[38;5;28;01mTrue\u001b[39;00m\n\u001b[1;32m     37\u001b[0m args \u001b[38;5;241m=\u001b[39m [ITBuffer\u001b[38;5;241m.\u001b[39mndarray_to_itb_port(a, setitem_itkernel\u001b[38;5;241m=\u001b[39mITWrite) \u001b[38;5;28;01mfor\u001b[39;00m a \u001b[38;5;129;01min\u001b[39;00m args]\n\u001b[0;32m---> 38\u001b[0m trace_retval \u001b[38;5;241m=\u001b[39m \u001b[38;5;28;43mself\u001b[39;49m\u001b[38;5;241;43m.\u001b[39;49m\u001b[43mapplication\u001b[49m\u001b[38;5;241;43m.\u001b[39;49m\u001b[43mcallgraph\u001b[49m\u001b[43m(\u001b[49m\u001b[38;5;241;43m*\u001b[39;49m\u001b[43margs\u001b[49m\u001b[43m)\u001b[49m\n\u001b[1;32m     40\u001b[0m tkernels, tconnections \u001b[38;5;241m=\u001b[39m \u001b[38;5;28mself\u001b[39m\u001b[38;5;241m.\u001b[39m_postprocess_trace(trace_retval)   \n\u001b[1;32m     41\u001b[0m TraceLogger\u001b[38;5;241m.\u001b[39mis_traceenabled \u001b[38;5;241m=\u001b[39m \u001b[38;5;28;01mFalse\u001b[39;00m          \n",
      "\u001b[0;31mTypeError\u001b[0m: SimpleApplication.callgraph() missing 1 required positional argument: 'x_out'"
     ]
    }
   ],
   "source": [
    "# Making the app\n",
    "app_builder = SimpleApplication(kernels)\n",
    "\n",
    "# Building the app\n",
    "input_form = np.zeros(shape=(1, P), dtype=dt)\n",
    "output_form = np.zeros(shape=(1, P), dtype=dt)\n",
    "\n",
    "app_builder.build(input_form, output_form)\n",
    "\n",
    "app = AppRunner('SimpleApplication.xclbin')"
   ]
  },
  {
   "cell_type": "code",
   "execution_count": null,
   "id": "30ccfe58-e67c-459c-85a5-519440936916",
   "metadata": {},
   "outputs": [],
   "source": [
    "def generate_win_coeffs(M, P, window_fn=\"hamming\"):\n",
    "    win_coeffs = scipy.signal.get_window(window_fn, P)\n",
    "    sinc       = scipy.signal.firwin(P, cutoff=1.0/P, window=\"rectangular\")\n",
    "    win_coeffs *= sinc\n",
    "    return win_coeffs"
   ]
  },
  {
   "cell_type": "code",
   "execution_count": null,
   "id": "3ce78780-fe28-4ab4-b328-6ceb6f9f2c2c",
   "metadata": {},
   "outputs": [],
   "source": [
    "# Generating input data\n",
    "noise = np.random.normal(loc=0.5, scale=0.1, size=P).astype(dt)\n",
    "samples = np.arange(P)\n",
    "freq    = 1\n",
    "amp     = 1\n",
    "cw_signal = (amp * np.sin(samples * freq)).astype(dt)\n",
    "data = noise + cw_signal\n",
    "plt.plot(data)\n",
    "plt.show()\n",
    "plt.clf()"
   ]
  },
  {
   "cell_type": "code",
   "execution_count": null,
   "id": "f2ee3994-5c80-4ebe-a40a-ca7c3a4e1304",
   "metadata": {},
   "outputs": [],
   "source": [
    "# Generate window coefficients\n",
    "win_coeffs = generate_win_coeffs(M, P, \"hamming\")\n",
    "pg = np.sum(np.abs(win_coeffs)**2)\n",
    "win_coeffs /= pg**.5 # Normalize for processing gain\n",
    "win_coeffs = win_coeffs.astype(dt)\n",
    "plt.plot(win_coeffs)\n",
    "plt.show()\n",
    "plt.clf()"
   ]
  },
  {
   "cell_type": "code",
   "execution_count": null,
   "id": "04dfaeaa-c863-40f7-9136-6d8a3524c14c",
   "metadata": {},
   "outputs": [],
   "source": [
    "# Generating Twiddle groups\n",
    "tw_groups = []\n",
    "for i in 2 ** np.arange(np.log2(P) + 1):\n",
    "    tw = np.tile(np.exp(-2j*np.pi*np.arange(i)/ i), int(P/i))\n",
    "    tw_groups.append(tw)"
   ]
  },
  {
   "cell_type": "code",
   "execution_count": null,
   "id": "f688ca61-2447-4270-9aae-563340d267dd",
   "metadata": {},
   "outputs": [],
   "source": [
    "d = tw_groups[0]\n",
    "# extract real part \n",
    "x = [ele.real for ele in d] \n",
    "# extract imaginary part \n",
    "y = [ele.imag for ele in d] \n",
    "  \n",
    "# plot the complex numbers \n",
    "plt.scatter(x, y) \n",
    "plt.ylabel('Imaginary') \n",
    "plt.xlabel('Real') \n",
    "plt.show() \n",
    "plt.clf()"
   ]
  },
  {
   "cell_type": "code",
   "execution_count": null,
   "id": "56b66522-2244-4812-a558-7016a86d171f",
   "metadata": {},
   "outputs": [],
   "source": [
    "# Making app runner and running app\n",
    "input_data = app.allocate(shape=(1, P), dtype=dt)\n",
    "output_data = app.allocate(shape=(1, P), dtype=dt)\n",
    "\n",
    "input_data[:] = data\n",
    "input_data.sync_to_npu()\n",
    "\n",
    "app.call(input_data, output_data)\n",
    "\n",
    "output_data.sync_from_npu()"
   ]
  },
  {
   "cell_type": "code",
   "execution_count": null,
   "id": "1a963adf-2424-4f38-a6e6-d0ef2e91bb7b",
   "metadata": {},
   "outputs": [],
   "source": [
    "plt.plot(output_data[0])\n",
    "plt.show()\n",
    "plt.clf()"
   ]
  },
  {
   "cell_type": "code",
   "execution_count": null,
   "id": "96617354-d9f1-48f1-8be4-cecb3089a0ae",
   "metadata": {},
   "outputs": [],
   "source": [
    "del app"
   ]
  }
 ],
 "metadata": {
  "kernelspec": {
   "display_name": "Python 3 (ipykernel)",
   "language": "python",
   "name": "python3"
  },
  "language_info": {
   "codemirror_mode": {
    "name": "ipython",
    "version": 3
   },
   "file_extension": ".py",
   "mimetype": "text/x-python",
   "name": "python",
   "nbconvert_exporter": "python",
   "pygments_lexer": "ipython3",
   "version": "3.12.3"
  }
 },
 "nbformat": 4,
 "nbformat_minor": 5
}
